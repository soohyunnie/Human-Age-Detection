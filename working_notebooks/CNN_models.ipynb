{
 "cells": [
  {
   "cell_type": "code",
   "execution_count": 1,
   "metadata": {},
   "outputs": [],
   "source": [
    "import os, shutil, random\n",
    "import numpy as np\n",
    "import pandas as pd\n",
    "import matplotlib.pyplot as plt\n",
    "import matplotlib.ticker as mtick\n",
    "import matplotlib.image as mpimg\n",
    "from keras.preprocessing import image\n",
    "from keras.preprocessing.image import ImageDataGenerator\n",
    "from keras import models\n",
    "from keras.layers import Dense, Dropout, Conv2D, MaxPooling2D, Flatten, Activation, BatchNormalization\n",
    "from keras.regularizers import l2\n",
    "from sklearn.utils import class_weight "
   ]
  },
  {
   "cell_type": "code",
   "execution_count": 2,
   "metadata": {},
   "outputs": [],
   "source": [
    "train_dir = 'Human_Face_Regonition_Images\\\\split2\\\\train'\n",
    "validation_dir = 'Human_Face_Regonition_Images\\\\split2\\\\validation'\n",
    "test_dir = 'Human_Face_Regonition_Images\\\\split2\\\\test'"
   ]
  },
  {
   "cell_type": "code",
   "execution_count": 3,
   "metadata": {},
   "outputs": [
    {
     "name": "stdout",
     "output_type": "stream",
     "text": [
      "Found 16000 images belonging to 6 classes.\n",
      "Found 5000 images belonging to 6 classes.\n",
      "Found 3108 images belonging to 6 classes.\n"
     ]
    }
   ],
   "source": [
    "train_data_gen_aug = ImageDataGenerator(rescale=1./255, \n",
    "                                        rotation_range=30, \n",
    "                                        width_shift_range=.2, \n",
    "                                        height_shift_range=.2,\n",
    "                                        zoom_range=0.2)\n",
    "train_generator_aug = train_data_gen_aug.flow_from_directory(train_dir, target_size=(256, 256), batch_size=128)\n",
    "\n",
    "validation_data_gen_aug = ImageDataGenerator(rescale=1./255, \n",
    "                                        rotation_range=30, \n",
    "                                        width_shift_range=.2, \n",
    "                                        height_shift_range=.2,\n",
    "                                        zoom_range=0.2)\n",
    "validation_generator_aug = validation_data_gen_aug.flow_from_directory(validation_dir, target_size=(256, 256), batch_size=128)\n",
    "\n",
    "test_data_gen_aug = ImageDataGenerator(rescale=1./255, \n",
    "                                        rotation_range=30, \n",
    "                                        width_shift_range=.2, \n",
    "                                        height_shift_range=.2,\n",
    "                                        zoom_range=0.2)\n",
    "test_generator_aug = test_data_gen_aug.flow_from_directory(test_dir, target_size=(256, 256), batch_size=128)"
   ]
  },
  {
   "cell_type": "code",
   "execution_count": 4,
   "metadata": {},
   "outputs": [
    {
     "name": "stderr",
     "output_type": "stream",
     "text": [
      "C:\\Users\\soohy\\anaconda3\\lib\\site-packages\\sklearn\\utils\\validation.py:70: FutureWarning: Pass classes=[0 1 2 3 4 5], y=[0 0 0 ... 5 5 5] as keyword args. From version 1.0 (renaming of 0.25) passing these as positional arguments will result in an error\n",
      "  warnings.warn(f\"Pass {args_msg} as keyword args. From version \"\n"
     ]
    },
    {
     "data": {
      "text/plain": [
       "{0: 1.1185682326621924,\n",
       " 1: 4.294149221685454,\n",
       " 2: 5.698005698005698,\n",
       " 3: 0.33146882121400456,\n",
       " 4: 0.9399600516978028,\n",
       " 5: 1.6210739614994933}"
      ]
     },
     "execution_count": 4,
     "metadata": {},
     "output_type": "execute_result"
    }
   ],
   "source": [
    "weight = class_weight.compute_class_weight(\n",
    "           'balanced',\n",
    "            np.unique(train_generator_aug.classes), \n",
    "            train_generator_aug.classes)\n",
    "\n",
    "train_class_weights = dict(enumerate(weight))\n",
    "train_class_weights"
   ]
  },
  {
   "cell_type": "code",
   "execution_count": null,
   "metadata": {},
   "outputs": [],
   "source": []
  },
  {
   "cell_type": "code",
   "execution_count": 5,
   "metadata": {},
   "outputs": [
    {
     "name": "stdout",
     "output_type": "stream",
     "text": [
      "Epoch 1/15\n",
      "40/40 [==============================] - 847s 21s/step - loss: 1.9342 - accuracy: 0.2193 - recall: 0.0205 - precision: 0.3646 - val_loss: 2.4793 - val_accuracy: 0.1825 - val_recall: 0.0894 - val_precision: 0.2294\n",
      "Epoch 2/15\n",
      "40/40 [==============================] - 704s 18s/step - loss: 1.6409 - accuracy: 0.3781 - recall: 0.0516 - precision: 0.6183 - val_loss: 2.1078 - val_accuracy: 0.0306 - val_recall: 0.0000e+00 - val_precision: 0.0000e+00\n",
      "Epoch 3/15\n",
      "40/40 [==============================] - 738s 18s/step - loss: 1.4818 - accuracy: 0.4768 - recall: 0.1176 - precision: 0.7041 - val_loss: 1.9068 - val_accuracy: 0.1219 - val_recall: 0.0000e+00 - val_precision: 0.0000e+00\n",
      "Epoch 4/15\n",
      "40/40 [==============================] - 679s 17s/step - loss: 1.3921 - accuracy: 0.5090 - recall: 0.2254 - precision: 0.6849 - val_loss: 1.8852 - val_accuracy: 0.1478 - val_recall: 0.0000e+00 - val_precision: 0.0000e+00\n",
      "Epoch 5/15\n",
      "40/40 [==============================] - 734s 18s/step - loss: 1.3101 - accuracy: 0.5395 - recall: 0.3002 - precision: 0.6967 - val_loss: 2.5730 - val_accuracy: 0.1625 - val_recall: 0.0944 - val_precision: 0.2467\n",
      "Epoch 6/15\n",
      "40/40 [==============================] - 673s 17s/step - loss: 1.2350 - accuracy: 0.5664 - recall: 0.3840 - precision: 0.6872 - val_loss: 2.9191 - val_accuracy: 0.0966 - val_recall: 0.0966 - val_precision: 0.0968\n",
      "Epoch 7/15\n",
      "40/40 [==============================] - 651s 16s/step - loss: 1.2023 - accuracy: 0.5797 - recall: 0.4117 - precision: 0.6943 - val_loss: 2.0499 - val_accuracy: 0.0972 - val_recall: 0.0053 - val_precision: 0.3036\n",
      "Epoch 8/15\n",
      "40/40 [==============================] - 711s 18s/step - loss: 1.1800 - accuracy: 0.5887 - recall: 0.4291 - precision: 0.6975 - val_loss: 1.7717 - val_accuracy: 0.1988 - val_recall: 0.0194 - val_precision: 0.6739\n",
      "Epoch 9/15\n",
      "40/40 [==============================] - 790s 20s/step - loss: 1.1583 - accuracy: 0.5949 - recall: 0.4486 - precision: 0.6906 - val_loss: 2.2631 - val_accuracy: 0.1059 - val_recall: 0.0831 - val_precision: 0.1255\n",
      "Epoch 10/15\n",
      "40/40 [==============================] - 753s 19s/step - loss: 1.1659 - accuracy: 0.5842 - recall: 0.4488 - precision: 0.6845 - val_loss: 2.4964 - val_accuracy: 0.1022 - val_recall: 0.0803 - val_precision: 0.1333\n",
      "Epoch 11/15\n",
      "40/40 [==============================] - 737s 18s/step - loss: 1.1439 - accuracy: 0.5945 - recall: 0.4533 - precision: 0.7006 - val_loss: 3.3330 - val_accuracy: 0.1091 - val_recall: 0.1063 - val_precision: 0.1081\n",
      "Epoch 12/15\n",
      "40/40 [==============================] - 733s 18s/step - loss: 1.1337 - accuracy: 0.6002 - recall: 0.4752 - precision: 0.6894 - val_loss: 1.8305 - val_accuracy: 0.1691 - val_recall: 0.0419 - val_precision: 0.1609\n",
      "Epoch 13/15\n",
      "40/40 [==============================] - 731s 18s/step - loss: 1.1201 - accuracy: 0.6084 - recall: 0.4758 - precision: 0.7049 - val_loss: 2.0956 - val_accuracy: 0.1691 - val_recall: 0.1072 - val_precision: 0.2134\n",
      "Epoch 14/15\n",
      "40/40 [==============================] - 700s 17s/step - loss: 1.1349 - accuracy: 0.5973 - recall: 0.4662 - precision: 0.6861 - val_loss: 2.9021 - val_accuracy: 0.1013 - val_recall: 0.0875 - val_precision: 0.0970\n",
      "Epoch 15/15\n",
      "40/40 [==============================] - 736s 18s/step - loss: 1.0920 - accuracy: 0.6127 - recall: 0.4826 - precision: 0.7088 - val_loss: 1.4205 - val_accuracy: 0.5091 - val_recall: 0.3272 - val_precision: 0.6577\n"
     ]
    }
   ],
   "source": [
    "cnn_model_aug6 = models.Sequential()\n",
    "\n",
    "cnn_model_aug6.add(Conv2D(32, (3, 3), activation='relu', input_shape=(256, 256, 3)))\n",
    "cnn_model_aug6.add(MaxPooling2D((2, 2)))\n",
    "\n",
    "cnn_model_aug6.add(Conv2D(64, kernel_size=(3, 3)))\n",
    "cnn_model_aug6.add(BatchNormalization())\n",
    "cnn_model_aug6.add(Activation('relu'))\n",
    "\n",
    "cnn_model_aug6.add(Dropout(0.25))\n",
    "\n",
    "cnn_model_aug6.add(Conv2D(128, (3, 3), activation='relu'))\n",
    "cnn_model_aug6.add(MaxPooling2D((2, 2)))\n",
    "\n",
    "cnn_model_aug6.add(Conv2D(64, kernel_size=(3, 3)))\n",
    "cnn_model_aug6.add(BatchNormalization())\n",
    "cnn_model_aug6.add(Activation('relu'))\n",
    "\n",
    "cnn_model_aug6.add(Dropout(0.25))\n",
    "\n",
    "cnn_model_aug6.add(Flatten())\n",
    "\n",
    "cnn_model_aug6.add(Dense(64, activation='relu'))\n",
    "\n",
    "cnn_model_aug6.add(Dense(32))\n",
    "cnn_model_aug6.add(BatchNormalization())\n",
    "cnn_model_aug6.add(Activation('relu'))\n",
    "\n",
    "cnn_model_aug6.add(Dense(16))\n",
    "cnn_model_aug6.add(BatchNormalization())\n",
    "cnn_model_aug6.add(Activation('relu'))\n",
    "\n",
    "cnn_model_aug6.add(Dense(6, activation='softmax'))\n",
    "\n",
    "cnn_model_aug6.compile(optimizer='Adam',\n",
    "              loss='categorical_crossentropy',\n",
    "              metrics=['accuracy','Recall', 'Precision'])\n",
    "\n",
    "result = cnn_model_aug6.fit(train_generator_aug,\n",
    "                    steps_per_epoch=40,\n",
    "                    epochs=15,\n",
    "                    batch_size=64,\n",
    "\n",
    "                    validation_data=(validation_generator_aug),\n",
    "                    validation_steps=25)"
   ]
  },
  {
   "cell_type": "code",
   "execution_count": 6,
   "metadata": {},
   "outputs": [
    {
     "name": "stdout",
     "output_type": "stream",
     "text": [
      "125/125 [==============================] - 358s 3s/step - loss: 1.4111 - accuracy: 0.5064 - recall: 0.3309 - precision: 0.6576\n",
      "40/40 [==============================] - 110s 3s/step - loss: 1.3950 - accuracy: 0.5102 - recall: 0.3386 - precision: 0.6572\n",
      "25/25 [==============================] - 77s 3s/step - loss: 1.4059 - accuracy: 0.5035 - recall: 0.3317 - precision: 0.6579\n",
      "[1.4110699892044067, 0.5063750147819519, 0.3309375047683716, 0.6576005816459656] [1.3949819803237915, 0.510200023651123, 0.3386000096797943, 0.6572204828262329] [1.4058600664138794, 0.5035392642021179, 0.3317245841026306, 0.6579450964927673]\n"
     ]
    }
   ],
   "source": [
    "cnn_result_train6 = cnn_model_aug6.evaluate(train_generator_aug)\n",
    "cnn_result_validation6 = cnn_model_aug6.evaluate(validation_generator_aug)\n",
    "cnn_result_test6 = cnn_model_aug6.evaluate(test_generator_aug)\n",
    "\n",
    "print(cnn_result_train6, cnn_result_validation6, cnn_result_test6)"
   ]
  },
  {
   "cell_type": "code",
   "execution_count": 1,
   "metadata": {},
   "outputs": [
    {
     "ename": "NameError",
     "evalue": "name 'cnn_model_aug6' is not defined",
     "output_type": "error",
     "traceback": [
      "\u001b[1;31m---------------------------------------------------------------------------\u001b[0m",
      "\u001b[1;31mNameError\u001b[0m                                 Traceback (most recent call last)",
      "\u001b[1;32m<ipython-input-1-c6356f910840>\u001b[0m in \u001b[0;36m<module>\u001b[1;34m\u001b[0m\n\u001b[0;32m      3\u001b[0m \u001b[0mnames\u001b[0m \u001b[1;33m=\u001b[0m \u001b[1;33m[\u001b[0m\u001b[1;34m'0-11'\u001b[0m\u001b[1;33m,\u001b[0m \u001b[1;34m'12-17'\u001b[0m\u001b[1;33m,\u001b[0m \u001b[1;34m'18-20'\u001b[0m\u001b[1;33m,\u001b[0m \u001b[1;34m'21-40'\u001b[0m\u001b[1;33m,\u001b[0m \u001b[1;34m'41-60'\u001b[0m\u001b[1;33m,\u001b[0m \u001b[1;34m'61+'\u001b[0m\u001b[1;33m,\u001b[0m\u001b[1;33m]\u001b[0m\u001b[1;33m\u001b[0m\u001b[1;33m\u001b[0m\u001b[0m\n\u001b[0;32m      4\u001b[0m \u001b[1;33m\u001b[0m\u001b[0m\n\u001b[1;32m----> 5\u001b[1;33m \u001b[0my_pred\u001b[0m\u001b[1;33m=\u001b[0m\u001b[0mcnn_model_aug6\u001b[0m\u001b[1;33m.\u001b[0m\u001b[0mpredict\u001b[0m\u001b[1;33m(\u001b[0m\u001b[0mcnn_model_aug6\u001b[0m\u001b[1;33m)\u001b[0m\u001b[1;33m\u001b[0m\u001b[1;33m\u001b[0m\u001b[0m\n\u001b[0m\u001b[0;32m      6\u001b[0m \u001b[0my_pred\u001b[0m\u001b[1;33m=\u001b[0m\u001b[0mnp\u001b[0m\u001b[1;33m.\u001b[0m\u001b[0margmax\u001b[0m\u001b[1;33m(\u001b[0m\u001b[0my_pred\u001b[0m\u001b[1;33m,\u001b[0m \u001b[0maxis\u001b[0m\u001b[1;33m=\u001b[0m\u001b[1;36m1\u001b[0m\u001b[1;33m)\u001b[0m\u001b[1;33m\u001b[0m\u001b[1;33m\u001b[0m\u001b[0m\n\u001b[0;32m      7\u001b[0m \u001b[0my_test\u001b[0m\u001b[1;33m=\u001b[0m\u001b[0mnp\u001b[0m\u001b[1;33m.\u001b[0m\u001b[0margmax\u001b[0m\u001b[1;33m(\u001b[0m\u001b[0mcnn_model_aug6\u001b[0m\u001b[1;33m,\u001b[0m \u001b[0maxis\u001b[0m\u001b[1;33m=\u001b[0m\u001b[1;36m1\u001b[0m\u001b[1;33m)\u001b[0m\u001b[1;33m\u001b[0m\u001b[1;33m\u001b[0m\u001b[0m\n",
      "\u001b[1;31mNameError\u001b[0m: name 'cnn_model_aug6' is not defined"
     ]
    }
   ],
   "source": [
    "from sklearn.metrics import confusion_matrix, plot_confusion_matrix, ConfusionMatrixDisplay\n",
    "\n",
    "names = ['0-11', '12-17', '18-20', '21-40', '41-60', '61+',]\n",
    "\n",
    "y_pred=cnn_model_aug6.predict(test_generator_aug) \n",
    "y_pred=np.argmax(y_pred, axis=1)\n",
    "y_test=np.argmax(cnn_model_aug6, axis=1)\n",
    "cm = confusion_matrix(y_test, y_pred)\n",
    "print(cm)\n",
    "ConfusionMatrixDisplay(cm, names)\n",
    "\n",
    "import seaborn as sns\n",
    "\n",
    "CM = confusion_matrix(y_test, y_pred)\n",
    "ax = plt.axes()\n",
    "sns.heatmap(CM, annot=True, \n",
    "           annot_kws={\"size\": 10}, \n",
    "           xticklabels=names, \n",
    "           yticklabels=names, ax = ax)\n",
    "ax.set_title('Confusion matrix')\n",
    "plt.show()"
   ]
  },
  {
   "cell_type": "code",
   "execution_count": null,
   "metadata": {},
   "outputs": [],
   "source": []
  },
  {
   "cell_type": "code",
   "execution_count": null,
   "metadata": {},
   "outputs": [],
   "source": []
  },
  {
   "cell_type": "code",
   "execution_count": 6,
   "metadata": {},
   "outputs": [
    {
     "name": "stdout",
     "output_type": "stream",
     "text": [
      "(128, 196608) (128, 196608) (128, 196608)\n"
     ]
    }
   ],
   "source": [
    "train_imgs_aug, train_labels_aug = next(train_generator_aug)\n",
    "validation_imgs_aug, validation_labels_aug = next(validation_generator_aug)\n",
    "test_imgs_aug, test_labels_aug = next(test_generator_aug)\n",
    "\n",
    "train_images_aug = train_imgs_aug.reshape(train_imgs_aug.shape[0], -1)\n",
    "validation_images_aug = validation_imgs_aug.reshape(validation_imgs_aug.shape[0], -1)\n",
    "test_images_aug = test_imgs_aug.reshape(test_imgs_aug.shape[0], -1)\n",
    "\n",
    "print(train_images_aug.shape, validation_images_aug.shape, test_images_aug.shape)"
   ]
  },
  {
   "cell_type": "code",
   "execution_count": 20,
   "metadata": {},
   "outputs": [
    {
     "name": "stdout",
     "output_type": "stream",
     "text": [
      "Epoch 1/15\n",
      "2/2 [==============================] - 1s 514ms/step - loss: 4.9009 - accuracy: 0.3438 - recall: 0.2031 - precision: 0.4127 - val_loss: 6.9571 - val_accuracy: 0.2031 - val_recall: 0.1797 - val_precision: 0.1983\n",
      "Epoch 2/15\n",
      "2/2 [==============================] - 0s 233ms/step - loss: 12.1023 - accuracy: 0.3047 - recall: 0.2969 - precision: 0.3115 - val_loss: 6.5054 - val_accuracy: 0.2500 - val_recall: 0.2500 - val_precision: 0.2500\n",
      "Epoch 3/15\n",
      "2/2 [==============================] - 0s 239ms/step - loss: 12.0742 - accuracy: 0.3281 - recall: 0.3281 - precision: 0.3307 - val_loss: 13.7253 - val_accuracy: 0.0234 - val_recall: 0.0234 - val_precision: 0.0234\n",
      "Epoch 4/15\n",
      "2/2 [==============================] - 0s 243ms/step - loss: 9.4358 - accuracy: 0.0781 - recall: 0.0781 - precision: 0.0794 - val_loss: 2.9976 - val_accuracy: 0.3750 - val_recall: 0.3047 - val_precision: 0.4149\n",
      "Epoch 5/15\n",
      "2/2 [==============================] - 0s 210ms/step - loss: 3.8645 - accuracy: 0.3672 - recall: 0.2969 - precision: 0.3725 - val_loss: 2.3452 - val_accuracy: 0.3516 - val_recall: 0.2812 - val_precision: 0.3789\n",
      "Epoch 6/15\n",
      "2/2 [==============================] - 0s 223ms/step - loss: 5.0085 - accuracy: 0.2969 - recall: 0.2578 - precision: 0.3000 - val_loss: 6.4447 - val_accuracy: 0.0312 - val_recall: 0.0312 - val_precision: 0.0342\n",
      "Epoch 7/15\n",
      "2/2 [==============================] - 0s 206ms/step - loss: 3.4900 - accuracy: 0.0781 - recall: 0.0391 - precision: 0.0490 - val_loss: 4.7844 - val_accuracy: 0.1172 - val_recall: 0.1016 - val_precision: 0.1171\n",
      "Epoch 8/15\n",
      "2/2 [==============================] - 0s 194ms/step - loss: 4.2566 - accuracy: 0.2109 - recall: 0.1797 - precision: 0.2300 - val_loss: 5.3691 - val_accuracy: 0.0625 - val_recall: 0.0547 - val_precision: 0.0753\n",
      "Epoch 9/15\n",
      "2/2 [==============================] - 0s 216ms/step - loss: 3.1384 - accuracy: 0.1562 - recall: 0.1250 - precision: 0.1667 - val_loss: 4.4692 - val_accuracy: 0.0469 - val_recall: 0.0156 - val_precision: 0.0263\n",
      "Epoch 10/15\n",
      "2/2 [==============================] - 0s 200ms/step - loss: 2.2383 - accuracy: 0.1875 - recall: 0.1250 - precision: 0.2078 - val_loss: 2.2151 - val_accuracy: 0.3047 - val_recall: 0.2109 - val_precision: 0.3068\n",
      "Epoch 11/15\n",
      "2/2 [==============================] - 0s 200ms/step - loss: 2.9647 - accuracy: 0.3203 - recall: 0.2422 - precision: 0.3407 - val_loss: 5.2159 - val_accuracy: 0.1016 - val_recall: 0.0312 - val_precision: 0.0580\n",
      "Epoch 12/15\n",
      "2/2 [==============================] - 0s 197ms/step - loss: 2.6479 - accuracy: 0.1406 - recall: 0.1094 - precision: 0.1647 - val_loss: 4.6478 - val_accuracy: 0.1641 - val_recall: 0.1094 - val_precision: 0.2000\n",
      "Epoch 13/15\n",
      "2/2 [==============================] - 0s 226ms/step - loss: 2.0428 - accuracy: 0.2500 - recall: 0.1719 - precision: 0.3143 - val_loss: 3.9873 - val_accuracy: 0.4219 - val_recall: 0.4141 - val_precision: 0.4380\n",
      "Epoch 14/15\n",
      "2/2 [==============================] - 0s 206ms/step - loss: 2.2866 - accuracy: 0.4766 - recall: 0.3750 - precision: 0.5217 - val_loss: 4.5226 - val_accuracy: 0.1484 - val_recall: 0.1094 - val_precision: 0.1346\n",
      "Epoch 15/15\n",
      "2/2 [==============================] - 0s 196ms/step - loss: 1.5131 - accuracy: 0.3672 - recall: 0.2344 - precision: 0.3448 - val_loss: 3.6287 - val_accuracy: 0.3750 - val_recall: 0.2969 - val_precision: 0.3689\n"
     ]
    }
   ],
   "source": [
    "model = models.Sequential()\n",
    "model.add(Dense(128, activation='relu', input_shape=(196608,)))\n",
    "model.add(Dense(64, activation='relu'))\n",
    "model.add(Dense(64, activation='relu'))\n",
    "model.add(Dense(64, activation='relu'))\n",
    "model.add(Dense(32, activation='relu'))\n",
    "model.add(Dense(16, activation='relu'))\n",
    "model.add(Dense(6, activation='softmax'))\n",
    "\n",
    "model.compile(optimizer='Adam',\n",
    "              loss='categorical_crossentropy',\n",
    "              metrics=['accuracy','Recall', 'Precision'])\n",
    "\n",
    "result = model.fit(train_images_aug, train_labels_aug,\n",
    "                    epochs=15,\n",
    "                    batch_size=64,\n",
    "                    class_weight=train_class_weights,\n",
    "                    validation_data=(validation_images_aug, validation_labels_aug))"
   ]
  },
  {
   "cell_type": "code",
   "execution_count": 21,
   "metadata": {},
   "outputs": [
    {
     "name": "stdout",
     "output_type": "stream",
     "text": [
      "4/4 [==============================] - 0s 13ms/step - loss: 2.0932 - accuracy: 0.5391 - recall: 0.5078 - precision: 0.5804\n",
      "4/4 [==============================] - 0s 16ms/step - loss: 3.6287 - accuracy: 0.3750 - recall: 0.2969 - precision: 0.3689\n",
      "4/4 [==============================] - 0s 17ms/step - loss: 2.9804 - accuracy: 0.4531 - recall: 0.4062 - precision: 0.4906\n",
      "[2.093165874481201, 0.5390625, 0.5078125, 0.5803571343421936] [3.6287107467651367, 0.375, 0.296875, 0.3689320385456085] [2.9803500175476074, 0.453125, 0.40625, 0.49056604504585266]\n"
     ]
    }
   ],
   "source": [
    "result_train_aug = model.evaluate(train_images_aug, train_labels_aug)\n",
    "result_validation_aug = model.evaluate(validation_images_aug, validation_labels_aug)\n",
    "result_test_aug = model.evaluate(test_images_aug, test_labels_aug)\n",
    "\n",
    "print(result_train_aug, result_validation_aug, result_test_aug)"
   ]
  },
  {
   "cell_type": "code",
   "execution_count": 14,
   "metadata": {},
   "outputs": [],
   "source": [
    "def plot_loss_accuracy(result):\n",
    "    history = result.history\n",
    "\n",
    "    plt.figure()\n",
    "    plt.plot(history['val_loss'])\n",
    "    plt.plot(history['loss'])\n",
    "    plt.legend(['val_loss', 'loss'])\n",
    "    plt.title('Loss')\n",
    "    plt.xlabel('Epochs')\n",
    "    plt.ylabel('Loss')\n",
    "    plt.show()\n",
    "    \n",
    "    plt.figure()\n",
    "    plt.plot(history['val_accuracy'])\n",
    "    plt.plot(history['accuracy'])\n",
    "    plt.legend(['val_accuracy', 'accuracy'])\n",
    "    plt.title('Accuracy')\n",
    "    plt.xlabel('Epochs')\n",
    "    plt.ylabel('Accuracy')\n",
    "    plt.show()"
   ]
  },
  {
   "cell_type": "code",
   "execution_count": 15,
   "metadata": {},
   "outputs": [
    {
     "data": {
      "image/png": "[encoded data removed]",
      "text/plain": [
       "<Figure size 432x288 with 1 Axes>"
      ]
     },
     "metadata": {
      "needs_background": "light"
     },
     "output_type": "display_data"
    },
    {
     "data": {
      "image/png": "[encoded data removed]",
      "text/plain": [
       "<Figure size 432x288 with 1 Axes>"
      ]
     },
     "metadata": {
      "needs_background": "light"
     },
     "output_type": "display_data"
    }
   ],
   "source": [
    "plot_loss_accuracy(result)"
   ]
  },
  {
   "cell_type": "code",
   "execution_count": 22,
   "metadata": {},
   "outputs": [],
   "source": [
    "models.save_model(model, 'new_baseline_model.h5')"
   ]
  },
  {
   "cell_type": "code",
   "execution_count": null,
   "metadata": {},
   "outputs": [],
   "source": []
  },
  {
   "cell_type": "code",
   "execution_count": 24,
   "metadata": {},
   "outputs": [
    {
     "name": "stdout",
     "output_type": "stream",
     "text": [
      "Epoch 1/20\n",
      "50/50 [==============================] - 357s 7s/step - loss: 1.7678 - accuracy: 0.1602 - recall: 0.0000e+00 - precision: 0.0000e+00 - val_loss: 1.7813 - val_accuracy: 0.2494 - val_recall: 0.0000e+00 - val_precision: 0.0000e+00\n",
      "Epoch 2/20\n",
      "50/50 [==============================] - 351s 7s/step - loss: 1.7353 - accuracy: 0.3752 - recall: 4.6875e-04 - precision: 1.0000 - val_loss: 1.6961 - val_accuracy: 0.4000 - val_recall: 0.0000e+00 - val_precision: 0.0000e+00\n",
      "Epoch 3/20\n",
      "50/50 [==============================] - 351s 7s/step - loss: 1.7390 - accuracy: 0.3559 - recall: 0.0077 - precision: 0.5976 - val_loss: 1.6305 - val_accuracy: 0.4409 - val_recall: 0.0113 - val_precision: 0.8571\n",
      "Epoch 4/20\n",
      "50/50 [==============================] - 349s 7s/step - loss: 1.6857 - accuracy: 0.3725 - recall: 0.0180 - precision: 0.7012 - val_loss: 1.6790 - val_accuracy: 0.3350 - val_recall: 0.0025 - val_precision: 0.7273\n",
      "Epoch 5/20\n",
      "50/50 [==============================] - 340s 7s/step - loss: 1.6355 - accuracy: 0.3294 - recall: 0.0328 - precision: 0.6462 - val_loss: 1.7014 - val_accuracy: 0.3288 - val_recall: 0.0066 - val_precision: 0.6364\n",
      "Epoch 6/20\n",
      "50/50 [==============================] - 351s 7s/step - loss: 1.7255 - accuracy: 0.3906 - recall: 0.0128 - precision: 0.5942 - val_loss: 1.7196 - val_accuracy: 0.3119 - val_recall: 0.0000e+00 - val_precision: 0.0000e+00\n",
      "Epoch 7/20\n",
      "50/50 [==============================] - 352s 7s/step - loss: 1.6647 - accuracy: 0.3286 - recall: 0.0244 - precision: 0.6393 - val_loss: 1.6447 - val_accuracy: 0.2597 - val_recall: 0.0303 - val_precision: 0.6690\n",
      "Epoch 8/20\n",
      "50/50 [==============================] - 354s 7s/step - loss: 1.6590 - accuracy: 0.3792 - recall: 0.0305 - precision: 0.6842 - val_loss: 1.6100 - val_accuracy: 0.3456 - val_recall: 0.0012 - val_precision: 0.6667\n",
      "Epoch 9/20\n",
      "50/50 [==============================] - 350s 7s/step - loss: 1.6860 - accuracy: 0.2748 - recall: 0.0227 - precision: 0.6144 - val_loss: 1.6592 - val_accuracy: 0.3537 - val_recall: 0.0012 - val_precision: 0.3636\n",
      "Epoch 10/20\n",
      "50/50 [==============================] - 351s 7s/step - loss: 1.6589 - accuracy: 0.3550 - recall: 0.0305 - precision: 0.6633 - val_loss: 1.6559 - val_accuracy: 0.3713 - val_recall: 0.0394 - val_precision: 0.6269\n",
      "Epoch 11/20\n",
      "50/50 [==============================] - 349s 7s/step - loss: 1.6185 - accuracy: 0.4070 - recall: 0.0305 - precision: 0.6633 - val_loss: 1.6589 - val_accuracy: 0.3609 - val_recall: 0.0044 - val_precision: 0.8750\n",
      "Epoch 12/20\n",
      "50/50 [==============================] - 342s 7s/step - loss: 1.6664 - accuracy: 0.4178 - recall: 0.0297 - precision: 0.6762 - val_loss: 1.6455 - val_accuracy: 0.3422 - val_recall: 0.0050 - val_precision: 0.3902\n",
      "Epoch 13/20\n",
      "50/50 [==============================] - 349s 7s/step - loss: 1.6609 - accuracy: 0.3572 - recall: 0.0377 - precision: 0.6086 - val_loss: 1.6287 - val_accuracy: 0.2853 - val_recall: 0.0100 - val_precision: 0.4384\n",
      "Epoch 14/20\n",
      "50/50 [==============================] - 346s 7s/step - loss: 1.6103 - accuracy: 0.4097 - recall: 0.0364 - precision: 0.6914 - val_loss: 1.5418 - val_accuracy: 0.4828 - val_recall: 0.0322 - val_precision: 0.6867\n",
      "Epoch 15/20\n",
      "50/50 [==============================] - 346s 7s/step - loss: 1.6462 - accuracy: 0.4155 - recall: 0.0362 - precision: 0.6105 - val_loss: 1.6378 - val_accuracy: 0.3556 - val_recall: 0.0137 - val_precision: 0.5432\n",
      "Epoch 16/20\n",
      "50/50 [==============================] - 354s 7s/step - loss: 1.6348 - accuracy: 0.3575 - recall: 0.0425 - precision: 0.6974 - val_loss: 1.6333 - val_accuracy: 0.2834 - val_recall: 0.0169 - val_precision: 0.5625\n",
      "Epoch 17/20\n",
      "50/50 [==============================] - 344s 7s/step - loss: 1.5896 - accuracy: 0.3667 - recall: 0.0409 - precision: 0.6616 - val_loss: 1.5803 - val_accuracy: 0.3966 - val_recall: 0.0463 - val_precision: 0.6727\n",
      "Epoch 18/20\n",
      "50/50 [==============================] - 339s 7s/step - loss: 1.5898 - accuracy: 0.4375 - recall: 0.0494 - precision: 0.6781 - val_loss: 1.5104 - val_accuracy: 0.4419 - val_recall: 0.0316 - val_precision: 0.7214\n",
      "Epoch 19/20\n",
      "50/50 [==============================] - 354s 7s/step - loss: 1.5882 - accuracy: 0.4064 - recall: 0.0489 - precision: 0.6660 - val_loss: 1.5652 - val_accuracy: 0.3875 - val_recall: 0.0113 - val_precision: 0.5455\n",
      "Epoch 20/20\n",
      "50/50 [==============================] - 353s 7s/step - loss: 1.5804 - accuracy: 0.4038 - recall: 0.0420 - precision: 0.6658 - val_loss: 1.5810 - val_accuracy: 0.3953 - val_recall: 0.0203 - val_precision: 0.5963\n"
     ]
    }
   ],
   "source": [
    "cnn_model_aug = models.Sequential()\n",
    "\n",
    "cnn_model_aug.add(Conv2D(32, (3, 3), activation='relu', input_shape=(256, 256, 3)))\n",
    "cnn_model_aug.add(MaxPooling2D((2, 2)))\n",
    "cnn_model_aug.add(Conv2D(64, (3, 3), activation='relu'))\n",
    "cnn_model_aug.add(MaxPooling2D((2, 2)))\n",
    "cnn_model_aug.add(Dropout(0.25))\n",
    "cnn_model_aug.add(Conv2D(128, (3, 3), activation='relu'))\n",
    "cnn_model_aug.add(MaxPooling2D((2, 2)))\n",
    "cnn_model_aug.add(Conv2D(128, (3, 3), activation='relu'))\n",
    "cnn_model_aug.add(MaxPooling2D((2, 2)))\n",
    "cnn_model_aug.add(Dropout(0.25))\n",
    "cnn_model_aug.add(Flatten())\n",
    "cnn_model_aug.add(Dense(64, activation='relu'))\n",
    "cnn_model_aug.add(Dense(32, activation='relu'))\n",
    "cnn_model_aug.add(Dense(16, activation='relu'))\n",
    "cnn_model_aug.add(Dense(6, activation='softmax'))\n",
    "\n",
    "cnn_model_aug.compile(optimizer='Adam',\n",
    "              loss='categorical_crossentropy',\n",
    "              metrics=['accuracy','Recall', 'Precision'])\n",
    "\n",
    "result = cnn_model_aug.fit(train_generator_aug,\n",
    "                    steps_per_epoch=50,\n",
    "                    epochs=20,\n",
    "                    batch_size=64,\n",
    "                    class_weight=train_class_weights,\n",
    "                    validation_data=(validation_generator_aug),\n",
    "                    validation_steps=25)"
   ]
  },
  {
   "cell_type": "code",
   "execution_count": null,
   "metadata": {},
   "outputs": [],
   "source": []
  },
  {
   "cell_type": "code",
   "execution_count": 25,
   "metadata": {},
   "outputs": [
    {
     "name": "stdout",
     "output_type": "stream",
     "text": [
      "125/125 [==============================] - 299s 2s/step - loss: 1.5543 - accuracy: 0.4165 - recall: 0.0193 - precision: 0.5787\n",
      "40/40 [==============================] - 91s 2s/step - loss: 1.5504 - accuracy: 0.4072 - recall: 0.0200 - precision: 0.5848\n",
      "25/25 [==============================] - 59s 2s/step - loss: 1.5600 - accuracy: 0.4131 - recall: 0.0190 - precision: 0.5842\n",
      "[1.554291844367981, 0.4165000021457672, 0.019312499091029167, 0.5786516666412354] [1.5504027605056763, 0.40720000863075256, 0.019999999552965164, 0.5847952961921692] [1.560015082359314, 0.41312742233276367, 0.018983269110322, 0.5841584205627441]\n"
     ]
    }
   ],
   "source": [
    "cnn_result_train = cnn_model_aug.evaluate(train_generator_aug)\n",
    "cnn_result_validation = cnn_model_aug.evaluate(validation_generator_aug)\n",
    "cnn_result_test = cnn_model_aug.evaluate(test_generator_aug)\n",
    "\n",
    "print(cnn_result_train, cnn_result_validation, cnn_result_test)"
   ]
  },
  {
   "cell_type": "code",
   "execution_count": null,
   "metadata": {},
   "outputs": [],
   "source": []
  },
  {
   "cell_type": "code",
   "execution_count": 14,
   "metadata": {},
   "outputs": [
    {
     "name": "stdout",
     "output_type": "stream",
     "text": [
      "Epoch 1/15\n",
      "40/40 [==============================] - 280s 7s/step - loss: 1.8231 - accuracy: 0.2674 - recall: 0.0000e+00 - val_loss: 1.7831 - val_accuracy: 0.2206 - val_recall: 0.0000e+00\n",
      "Epoch 2/15\n",
      "40/40 [==============================] - 269s 7s/step - loss: 1.7572 - accuracy: 0.3596 - recall: 0.0000e+00 - val_loss: 1.6807 - val_accuracy: 0.4350 - val_recall: 0.0000e+00\n",
      "Epoch 3/15\n",
      "40/40 [==============================] - 267s 7s/step - loss: 1.7995 - accuracy: 0.2783 - recall: 0.0000e+00 - val_loss: 1.7550 - val_accuracy: 0.1894 - val_recall: 0.0000e+00\n",
      "Epoch 4/15\n",
      "40/40 [==============================] - 264s 7s/step - loss: 1.7146 - accuracy: 0.3041 - recall: 0.0000e+00 - val_loss: 1.6194 - val_accuracy: 0.4178 - val_recall: 6.2500e-04\n",
      "Epoch 5/15\n",
      "40/40 [==============================] - 263s 7s/step - loss: 1.6567 - accuracy: 0.3316 - recall: 0.0000e+00 - val_loss: 1.5977 - val_accuracy: 0.4547 - val_recall: 3.1250e-04\n",
      "Epoch 6/15\n",
      "40/40 [==============================] - 263s 7s/step - loss: 1.6979 - accuracy: 0.3203 - recall: 0.0000e+00 - val_loss: 1.6785 - val_accuracy: 0.3388 - val_recall: 0.0012\n",
      "Epoch 7/15\n",
      "40/40 [==============================] - 271s 7s/step - loss: 1.6650 - accuracy: 0.3926 - recall: 0.0000e+00 - val_loss: 1.6610 - val_accuracy: 0.3766 - val_recall: 0.0000e+00\n",
      "Epoch 8/15\n",
      "40/40 [==============================] - 264s 7s/step - loss: 1.6533 - accuracy: 0.3359 - recall: 3.9063e-04 - val_loss: 1.5955 - val_accuracy: 0.4372 - val_recall: 3.1250e-04\n",
      "Epoch 9/15\n",
      "40/40 [==============================] - 265s 7s/step - loss: 1.7003 - accuracy: 0.3195 - recall: 3.9063e-04 - val_loss: 1.6214 - val_accuracy: 0.3672 - val_recall: 0.0000e+00\n",
      "Epoch 10/15\n",
      "40/40 [==============================] - 276s 7s/step - loss: 1.6559 - accuracy: 0.3730 - recall: 0.0033 - val_loss: 1.6269 - val_accuracy: 0.3928 - val_recall: 6.2500e-04\n",
      "Epoch 11/15\n",
      "40/40 [==============================] - 262s 7s/step - loss: 1.6581 - accuracy: 0.3516 - recall: 0.0092 - val_loss: 1.7238 - val_accuracy: 0.3441 - val_recall: 0.0403\n",
      "Epoch 12/15\n",
      "40/40 [==============================] - 265s 7s/step - loss: 1.6923 - accuracy: 0.3582 - recall: 0.0326 - val_loss: 1.7069 - val_accuracy: 0.2222 - val_recall: 0.0119\n",
      "Epoch 13/15\n",
      "40/40 [==============================] - 258s 6s/step - loss: 1.6756 - accuracy: 0.2707 - recall: 0.0191 - val_loss: 1.6605 - val_accuracy: 0.1897 - val_recall: 0.0284\n",
      "Epoch 14/15\n",
      "40/40 [==============================] - 256s 6s/step - loss: 1.6175 - accuracy: 0.3723 - recall: 0.0307 - val_loss: 1.6798 - val_accuracy: 0.2988 - val_recall: 0.0344\n",
      "Epoch 15/15\n",
      "40/40 [==============================] - 268s 7s/step - loss: 1.6412 - accuracy: 0.4129 - recall: 0.0283 - val_loss: 1.6486 - val_accuracy: 0.3619 - val_recall: 0.0506\n"
     ]
    }
   ],
   "source": [
    "cnn_model_aug2 = models.Sequential()\n",
    "\n",
    "cnn_model_aug2.add(Conv2D(32, (3, 3), activation='relu', input_shape=(256, 256, 3)))\n",
    "cnn_model_aug2.add(MaxPooling2D((2, 2)))\n",
    "cnn_model_aug2.add(Conv2D(64, (3, 3), activation='relu'))\n",
    "cnn_model_aug2.add(MaxPooling2D((2, 2)))\n",
    "cnn_model_aug2.add(Conv2D(128, (3, 3), activation='relu'))\n",
    "cnn_model_aug2.add(MaxPooling2D((2, 2)))\n",
    "cnn_model_aug2.add(Conv2D(128, (3, 3), activation='relu'))\n",
    "cnn_model_aug2.add(MaxPooling2D((2, 2)))\n",
    "\n",
    "cnn_model_aug2.add(Flatten())\n",
    "\n",
    "cnn_model_aug2.add(Dense(512, activation='relu'))\n",
    "cnn_model_aug2.add(Dense(6, activation='softmax'))\n",
    "\n",
    "cnn_model_aug2.compile(optimizer='Adam',\n",
    "              loss='categorical_crossentropy',\n",
    "              metrics=['accuracy','Recall'])\n",
    "\n",
    "result = cnn_model_aug2.fit(train_generator_aug,\n",
    "                    steps_per_epoch=40,\n",
    "                    epochs=15,\n",
    "                    batch_size=64,\n",
    "                    class_weight=train_class_weights,\n",
    "                    validation_data=(validation_generator_aug),\n",
    "                    validation_steps=25)"
   ]
  },
  {
   "cell_type": "code",
   "execution_count": 15,
   "metadata": {},
   "outputs": [
    {
     "name": "stdout",
     "output_type": "stream",
     "text": [
      "125/125 [==============================] - 293s 2s/step - loss: 1.6418 - accuracy: 0.3747 - recall: 0.0547\n",
      "40/40 [==============================] - 97s 2s/step - loss: 1.6524 - accuracy: 0.3672 - recall: 0.0516\n",
      "25/25 [==============================] - 63s 3s/step - loss: 1.6443 - accuracy: 0.3684 - recall: 0.0505\n",
      "[1.641836166381836, 0.3746874928474426, 0.0546875] [1.652403712272644, 0.36719998717308044, 0.051600001752376556] [1.6443390846252441, 0.3684041202068329, 0.05051480233669281]\n"
     ]
    }
   ],
   "source": [
    "cnn_result_train2 = cnn_model_aug2.evaluate(train_generator_aug)\n",
    "cnn_result_validation2 = cnn_model_aug2.evaluate(validation_generator_aug)\n",
    "cnn_result_test2 = cnn_model_aug2.evaluate(test_generator_aug)\n",
    "\n",
    "print(cnn_result_train2, cnn_result_validation2, cnn_result_test2)"
   ]
  },
  {
   "cell_type": "code",
   "execution_count": null,
   "metadata": {},
   "outputs": [],
   "source": []
  },
  {
   "cell_type": "code",
   "execution_count": null,
   "metadata": {},
   "outputs": [],
   "source": []
  },
  {
   "cell_type": "code",
   "execution_count": 16,
   "metadata": {},
   "outputs": [
    {
     "name": "stdout",
     "output_type": "stream",
     "text": [
      "Epoch 1/15\n",
      "40/40 [==============================] - 819s 20s/step - loss: 1.8246 - accuracy: 0.2096 - recall: 0.0299 - precision: 0.3964 - val_loss: 2.4327 - val_accuracy: 0.1056 - val_recall: 0.0000e+00 - val_precision: 0.0000e+00\n",
      "Epoch 2/15\n",
      "40/40 [==============================] - 892s 22s/step - loss: 1.7599 - accuracy: 0.2510 - recall: 0.0230 - precision: 0.5930 - val_loss: 2.6285 - val_accuracy: 0.1209 - val_recall: 0.0000e+00 - val_precision: 0.0000e+00\n",
      "Epoch 3/15\n",
      "40/40 [==============================] - 734s 18s/step - loss: 1.6740 - accuracy: 0.3074 - recall: 0.0254 - precision: 0.5778 - val_loss: 2.6830 - val_accuracy: 0.1741 - val_recall: 0.0000e+00 - val_precision: 0.0000e+00\n",
      "Epoch 4/15\n",
      "40/40 [==============================] - 729s 18s/step - loss: 1.7114 - accuracy: 0.3133 - recall: 0.0291 - precision: 0.6395 - val_loss: 2.3115 - val_accuracy: 0.1813 - val_recall: 0.0000e+00 - val_precision: 0.0000e+00\n",
      "Epoch 5/15\n",
      "40/40 [==============================] - 748s 19s/step - loss: 1.6938 - accuracy: 0.3068 - recall: 0.0316 - precision: 0.7570 - val_loss: 2.3034 - val_accuracy: 0.1322 - val_recall: 0.0000e+00 - val_precision: 0.0000e+00\n",
      "Epoch 6/15\n",
      "40/40 [==============================] - 758s 19s/step - loss: 1.6940 - accuracy: 0.2586 - recall: 0.0326 - precision: 0.6872 - val_loss: 2.5723 - val_accuracy: 0.0959 - val_recall: 0.0441 - val_precision: 0.1225\n",
      "Epoch 7/15\n",
      "40/40 [==============================] - 743s 19s/step - loss: 1.6477 - accuracy: 0.3176 - recall: 0.0355 - precision: 0.5778 - val_loss: 1.9906 - val_accuracy: 0.1706 - val_recall: 0.0319 - val_precision: 0.6415\n",
      "Epoch 8/15\n",
      "40/40 [==============================] - 774s 19s/step - loss: 1.7203 - accuracy: 0.3086 - recall: 0.0309 - precision: 0.5940 - val_loss: 2.1372 - val_accuracy: 0.1575 - val_recall: 0.0012 - val_precision: 0.2222\n",
      "Epoch 9/15\n",
      "40/40 [==============================] - 751s 19s/step - loss: 1.6430 - accuracy: 0.3150 - recall: 0.0326 - precision: 0.6816 - val_loss: 1.8885 - val_accuracy: 0.1787 - val_recall: 0.0100 - val_precision: 0.7273\n",
      "Epoch 10/15\n",
      "40/40 [==============================] - 719s 18s/step - loss: 1.6242 - accuracy: 0.3143 - recall: 0.0398 - precision: 0.6800 - val_loss: 2.1874 - val_accuracy: 0.1847 - val_recall: 0.0534 - val_precision: 0.5262\n",
      "Epoch 11/15\n",
      "40/40 [==============================] - 775s 19s/step - loss: 1.6368 - accuracy: 0.3107 - recall: 0.0359 - precision: 0.6133 - val_loss: 1.8676 - val_accuracy: 0.1916 - val_recall: 0.0362 - val_precision: 0.3558\n",
      "Epoch 12/15\n",
      "40/40 [==============================] - 754s 19s/step - loss: 1.6800 - accuracy: 0.3129 - recall: 0.0404 - precision: 0.6292 - val_loss: 2.1236 - val_accuracy: 0.1353 - val_recall: 0.0266 - val_precision: 0.2231\n",
      "Epoch 13/15\n",
      "40/40 [==============================] - 691s 17s/step - loss: 1.6398 - accuracy: 0.2879 - recall: 0.0428 - precision: 0.6518 - val_loss: 1.7702 - val_accuracy: 0.1700 - val_recall: 0.0041 - val_precision: 0.2600\n",
      "Epoch 14/15\n",
      "40/40 [==============================] - 708s 18s/step - loss: 1.6564 - accuracy: 0.2967 - recall: 0.0416 - precision: 0.6138 - val_loss: 2.4103 - val_accuracy: 0.1219 - val_recall: 0.0441 - val_precision: 0.1610\n",
      "Epoch 15/15\n",
      "40/40 [==============================] - 735s 18s/step - loss: 1.5874 - accuracy: 0.3359 - recall: 0.0494 - precision: 0.6675 - val_loss: 2.9161 - val_accuracy: 0.1422 - val_recall: 0.0450 - val_precision: 0.3453\n"
     ]
    }
   ],
   "source": [
    "cnn_model_aug3 = models.Sequential()\n",
    "\n",
    "cnn_model_aug3.add(Conv2D(32, (3, 3), activation='relu', input_shape=(256, 256, 3)))\n",
    "cnn_model_aug3.add(MaxPooling2D((2, 2)))\n",
    "\n",
    "cnn_model_aug3.add(Conv2D(64, kernel_size=(3, 3)))\n",
    "cnn_model_aug3.add(BatchNormalization())\n",
    "cnn_model_aug3.add(Activation('relu'))\n",
    "\n",
    "cnn_model_aug3.add(Dropout(0.25))\n",
    "\n",
    "cnn_model_aug3.add(Conv2D(128, (3, 3), activation='relu'))\n",
    "cnn_model_aug3.add(MaxPooling2D((2, 2)))\n",
    "\n",
    "cnn_model_aug3.add(Conv2D(64, kernel_size=(3, 3)))\n",
    "cnn_model_aug3.add(BatchNormalization())\n",
    "cnn_model_aug3.add(Activation('relu'))\n",
    "\n",
    "cnn_model_aug3.add(Dropout(0.25))\n",
    "\n",
    "cnn_model_aug3.add(Flatten())\n",
    "\n",
    "cnn_model_aug3.add(Dense(64, activation='relu'))\n",
    "\n",
    "cnn_model_aug3.add(Dense(32))\n",
    "cnn_model_aug3.add(BatchNormalization())\n",
    "cnn_model_aug3.add(Activation('relu'))\n",
    "\n",
    "cnn_model_aug3.add(Dense(16))\n",
    "cnn_model_aug3.add(BatchNormalization())\n",
    "cnn_model_aug3.add(Activation('relu'))\n",
    "\n",
    "cnn_model_aug3.add(Dense(6, activation='softmax'))\n",
    "\n",
    "cnn_model_aug3.compile(optimizer='Adam',\n",
    "              loss='categorical_crossentropy',\n",
    "              metrics=['accuracy','Recall', 'Precision'])\n",
    "\n",
    "result = cnn_model_aug3.fit(train_generator_aug,\n",
    "                    steps_per_epoch=40,\n",
    "                    epochs=15,\n",
    "                    batch_size=64,\n",
    "                    class_weight=train_class_weights,\n",
    "                    validation_data=(validation_generator_aug),\n",
    "                    validation_steps=25)"
   ]
  },
  {
   "cell_type": "code",
   "execution_count": 17,
   "metadata": {},
   "outputs": [
    {
     "name": "stdout",
     "output_type": "stream",
     "text": [
      "125/125 [==============================] - 335s 3s/step - loss: 2.8920 - accuracy: 0.1448 - recall: 0.0456 - precision: 0.3539\n",
      "40/40 [==============================] - 102s 3s/step - loss: 2.9229 - accuracy: 0.1400 - recall: 0.0482 - precision: 0.3613\n",
      "25/25 [==============================] - 67s 3s/step - loss: 2.9069 - accuracy: 0.1496 - recall: 0.0457 - precision: 0.3242\n",
      "[2.8919670581817627, 0.14481249451637268, 0.0455624982714653, 0.3538835048675537] [2.922852039337158, 0.14000000059604645, 0.04820000007748604, 0.36131933331489563] [2.906930923461914, 0.1496139019727707, 0.04568854719400406, 0.32420089840888977]\n"
     ]
    }
   ],
   "source": [
    "cnn_result_train3 = cnn_model_aug3.evaluate(train_generator_aug)\n",
    "cnn_result_validation3 = cnn_model_aug3.evaluate(validation_generator_aug)\n",
    "cnn_result_test3 = cnn_model_aug3.evaluate(test_generator_aug)\n",
    "\n",
    "print(cnn_result_train3, cnn_result_validation3, cnn_result_test3)"
   ]
  },
  {
   "cell_type": "code",
   "execution_count": null,
   "metadata": {},
   "outputs": [],
   "source": []
  },
  {
   "cell_type": "code",
   "execution_count": null,
   "metadata": {},
   "outputs": [],
   "source": []
  }
 ],
 "metadata": {
  "interpreter": {
   "hash": "dc6d52e5e201111624bae335b563155d79ba4d597c083a245d9e59b53d9a7214"
  },
  "kernelspec": {
   "display_name": "Python 3.8.8 64-bit ('base': conda)",
   "name": "python3"
  },
  "language_info": {
   "codemirror_mode": {
    "name": "ipython",
    "version": 3
   },
   "file_extension": ".py",
   "mimetype": "text/x-python",
   "name": "python",
   "nbconvert_exporter": "python",
   "pygments_lexer": "ipython3",
   "version": "3.8.8"
  },
  "orig_nbformat": 4
 },
 "nbformat": 4,
 "nbformat_minor": 2
}
