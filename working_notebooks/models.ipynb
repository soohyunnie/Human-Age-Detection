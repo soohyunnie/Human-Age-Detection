{
 "cells": [
  {
   "cell_type": "code",
   "execution_count": 8,
   "metadata": {},
   "outputs": [],
   "source": [
    "import os, shutil, random\n",
    "import numpy as np\n",
    "import pandas as pd\n",
    "import matplotlib.pyplot as plt\n",
    "import matplotlib.ticker as mtick\n",
    "import matplotlib.image as mpimg\n",
    "from keras.preprocessing import image\n",
    "from keras.preprocessing.image import ImageDataGenerator\n",
    "from keras import models\n",
    "from keras.layers import Dense, Dropout, Conv2D, MaxPooling2D, Flatten, Activation, BatchNormalization\n",
    "from keras.regularizers import l2\n",
    "from sklearn.utils import class_weight \n",
    "from sklearn.metrics import confusion_matrix, plot_confusion_matrix, ConfusionMatrixDisplay"
   ]
  },
  {
   "cell_type": "code",
   "execution_count": 10,
   "metadata": {},
   "outputs": [],
   "source": [
    "def plot_loss_metrics(result):\n",
    "    history = result.history\n",
    "\n",
    "    plt.figure()\n",
    "    plt.plot(history['val_loss'])\n",
    "    plt.plot(history['loss'])\n",
    "    plt.legend(['val_loss', 'loss'])\n",
    "    plt.title('Loss')\n",
    "    plt.xlabel('Epochs')\n",
    "    plt.ylabel('Loss')\n",
    "    plt.show()\n",
    "    \n",
    "    plt.figure()\n",
    "    plt.plot(history['val_accuracy'])\n",
    "    plt.plot(history['accuracy'])\n",
    "    plt.legend(['val_accuracy', 'accuracy'])\n",
    "    plt.title('Accuracy')\n",
    "    plt.xlabel('Epochs')\n",
    "    plt.ylabel('Accuracy')\n",
    "    plt.show()\n",
    "\n",
    "    plt.figure()\n",
    "    plt.plot(history['val_recall'])\n",
    "    plt.plot(history['recall'])\n",
    "    plt.legend(['val_recall', 'recall'])\n",
    "    plt.title('Recall')\n",
    "    plt.xlabel('Epochs')\n",
    "    plt.ylabel('Recall')\n",
    "    plt.show()"
   ]
  },
  {
   "cell_type": "code",
   "execution_count": 11,
   "metadata": {},
   "outputs": [],
   "source": [
    "train_dir = 'Human_Face_Regonition_Images\\\\split3\\\\train'\n",
    "validation_dir = 'Human_Face_Regonition_Images\\\\split3\\\\validation'\n",
    "test_dir = 'Human_Face_Regonition_Images\\\\split3\\\\test'"
   ]
  },
  {
   "cell_type": "code",
   "execution_count": 12,
   "metadata": {},
   "outputs": [
    {
     "name": "stdout",
     "output_type": "stream",
     "text": [
      "Found 16000 images belonging to 5 classes.\n",
      "Found 5000 images belonging to 5 classes.\n",
      "Found 3108 images belonging to 5 classes.\n"
     ]
    }
   ],
   "source": [
    "data_gen_aug = ImageDataGenerator(rescale=1./255, \n",
    "                                        rotation_range=30, \n",
    "                                        width_shift_range=.1, \n",
    "                                        height_shift_range=.1,\n",
    "                                        horizontal_flip=True,\n",
    "                                        zoom_range=0.1)\n",
    "                                        \n",
    "train_generator_aug = data_gen_aug.flow_from_directory(train_dir, target_size=(256, 256), batch_size=128)\n",
    "\n",
    "validation_generator_aug = data_gen_aug.flow_from_directory(validation_dir, target_size=(256, 256), batch_size=128)\n",
    "\n",
    "test_generator_aug = data_gen_aug.flow_from_directory(test_dir, target_size=(256, 256), batch_size=128)"
   ]
  },
  {
   "cell_type": "code",
   "execution_count": 13,
   "metadata": {},
   "outputs": [
    {
     "name": "stdout",
     "output_type": "stream",
     "text": [
      "(128, 196608) (128, 196608) (128, 196608)\n"
     ]
    }
   ],
   "source": [
    "train_imgs_aug, train_labels_aug = next(train_generator_aug)\n",
    "validation_imgs_aug, validation_labels_aug = next(validation_generator_aug)\n",
    "test_imgs_aug, test_labels_aug = next(test_generator_aug)\n",
    "\n",
    "train_images_aug = train_imgs_aug.reshape(train_imgs_aug.shape[0], -1)\n",
    "validation_images_aug = validation_imgs_aug.reshape(validation_imgs_aug.shape[0], -1)\n",
    "test_images_aug = test_imgs_aug.reshape(test_imgs_aug.shape[0], -1)\n",
    "\n",
    "print(train_images_aug.shape, validation_images_aug.shape, test_images_aug.shape)"
   ]
  },
  {
   "cell_type": "markdown",
   "metadata": {},
   "source": [
    "## Baseline Model"
   ]
  },
  {
   "cell_type": "code",
   "execution_count": 15,
   "metadata": {},
   "outputs": [
    {
     "name": "stdout",
     "output_type": "stream",
     "text": [
      "Epoch 1/15\n",
      "2/2 [==============================] - 2s 1s/step - loss: 4.4117 - accuracy: 0.2500 - recall: 0.1172 - val_loss: 11.6458 - val_accuracy: 0.1406 - val_recall: 0.1406\n",
      "Epoch 2/15\n",
      "2/2 [==============================] - 0s 274ms/step - loss: 8.3595 - accuracy: 0.1641 - recall: 0.1641 - val_loss: 20.9290 - val_accuracy: 0.2422 - val_recall: 0.2422\n",
      "Epoch 3/15\n",
      "2/2 [==============================] - 0s 274ms/step - loss: 14.5987 - accuracy: 0.2656 - recall: 0.2656 - val_loss: 6.6659 - val_accuracy: 0.2188 - val_recall: 0.2188\n",
      "Epoch 4/15\n",
      "2/2 [==============================] - 0s 289ms/step - loss: 5.3736 - accuracy: 0.2031 - recall: 0.2031 - val_loss: 7.2752 - val_accuracy: 0.1406 - val_recall: 0.1406\n",
      "Epoch 5/15\n",
      "2/2 [==============================] - 0s 304ms/step - loss: 12.4704 - accuracy: 0.1562 - recall: 0.1562 - val_loss: 9.4619 - val_accuracy: 0.2422 - val_recall: 0.2422\n",
      "Epoch 6/15\n",
      "2/2 [==============================] - 0s 254ms/step - loss: 13.2756 - accuracy: 0.2578 - recall: 0.2578 - val_loss: 20.2188 - val_accuracy: 0.2266 - val_recall: 0.2266\n",
      "Epoch 7/15\n",
      "2/2 [==============================] - 0s 220ms/step - loss: 17.3524 - accuracy: 0.1953 - recall: 0.1953 - val_loss: 16.7114 - val_accuracy: 0.1406 - val_recall: 0.1406\n",
      "Epoch 8/15\n",
      "2/2 [==============================] - 0s 198ms/step - loss: 12.8624 - accuracy: 0.2734 - recall: 0.2734 - val_loss: 17.1548 - val_accuracy: 0.1719 - val_recall: 0.1719\n",
      "Epoch 9/15\n",
      "2/2 [==============================] - 0s 228ms/step - loss: 14.9370 - accuracy: 0.2266 - recall: 0.2266 - val_loss: 17.4494 - val_accuracy: 0.2422 - val_recall: 0.2422\n",
      "Epoch 10/15\n",
      "2/2 [==============================] - 0s 197ms/step - loss: 13.6288 - accuracy: 0.2656 - recall: 0.2656 - val_loss: 9.3995 - val_accuracy: 0.1719 - val_recall: 0.1719\n",
      "Epoch 11/15\n",
      "2/2 [==============================] - 0s 224ms/step - loss: 6.7370 - accuracy: 0.1797 - recall: 0.1797 - val_loss: 5.2386 - val_accuracy: 0.2266 - val_recall: 0.2188\n",
      "Epoch 12/15\n",
      "2/2 [==============================] - 0s 227ms/step - loss: 5.3906 - accuracy: 0.2109 - recall: 0.2109 - val_loss: 3.9791 - val_accuracy: 0.2422 - val_recall: 0.2188\n",
      "Epoch 13/15\n",
      "2/2 [==============================] - 0s 261ms/step - loss: 3.1619 - accuracy: 0.2578 - recall: 0.2344 - val_loss: 2.7999 - val_accuracy: 0.1953 - val_recall: 0.1016\n",
      "Epoch 14/15\n",
      "2/2 [==============================] - 0s 237ms/step - loss: 2.2814 - accuracy: 0.2891 - recall: 0.2109 - val_loss: 2.9038 - val_accuracy: 0.1719 - val_recall: 0.1172\n",
      "Epoch 15/15\n",
      "2/2 [==============================] - 0s 258ms/step - loss: 2.2226 - accuracy: 0.2812 - recall: 0.2500 - val_loss: 3.8636 - val_accuracy: 0.1406 - val_recall: 0.1016\n"
     ]
    }
   ],
   "source": [
    "model = models.Sequential()\n",
    "model.add(Dense(128, activation='relu', input_shape=(196608,)))\n",
    "model.add(Dense(64, activation='relu'))\n",
    "model.add(Dense(64, activation='relu'))\n",
    "model.add(Dense(64, activation='relu'))\n",
    "model.add(Dense(32, activation='relu'))\n",
    "model.add(Dense(16, activation='relu'))\n",
    "model.add(Dense(5, activation='softmax'))\n",
    "\n",
    "model.compile(optimizer='Adam',\n",
    "              loss='categorical_crossentropy',\n",
    "              metrics=['accuracy', 'Recall'])\n",
    "\n",
    "result = model.fit(train_images_aug, train_labels_aug,\n",
    "                    epochs=15,\n",
    "                    batch_size=64,\n",
    "                    validation_data=(validation_images_aug, validation_labels_aug))"
   ]
  },
  {
   "cell_type": "code",
   "execution_count": 16,
   "metadata": {},
   "outputs": [
    {
     "data": {
      "image/png": "[encoded data removed]",
      "text/plain": [
       "<Figure size 432x288 with 1 Axes>"
      ]
     },
     "metadata": {
      "needs_background": "light"
     },
     "output_type": "display_data"
    },
    {
     "data": {
      "image/png": "[encoded data removed]",
      "text/plain": [
       "<Figure size 432x288 with 1 Axes>"
      ]
     },
     "metadata": {
      "needs_background": "light"
     },
     "output_type": "display_data"
    },
    {
     "data": {
      "image/png": "[encoded data removed]",
      "text/plain": [
       "<Figure size 432x288 with 1 Axes>"
      ]
     },
     "metadata": {
      "needs_background": "light"
     },
     "output_type": "display_data"
    }
   ],
   "source": [
    "plot_loss_metrics(result)"
   ]
  },
  {
   "cell_type": "code",
   "execution_count": 17,
   "metadata": {},
   "outputs": [
    {
     "name": "stdout",
     "output_type": "stream",
     "text": [
      "4/4 [==============================] - 0s 16ms/step - loss: 2.4487 - accuracy: 0.3438 - recall: 0.2734\n",
      "4/4 [==============================] - 0s 15ms/step - loss: 3.8636 - accuracy: 0.1406 - recall: 0.1016\n",
      "4/4 [==============================] - 0s 15ms/step - loss: 3.8906 - accuracy: 0.2109 - recall: 0.1016\n",
      "[2.448725700378418, 0.34375, 0.2734375] [3.863617420196533, 0.140625, 0.1015625] [3.890584945678711, 0.2109375, 0.1015625]\n"
     ]
    }
   ],
   "source": [
    "result_train_aug = model.evaluate(train_images_aug, train_labels_aug)\n",
    "result_validation_aug = model.evaluate(validation_images_aug, validation_labels_aug)\n",
    "result_test_aug = model.evaluate(test_images_aug, test_labels_aug)\n",
    "\n",
    "print(result_train_aug, result_validation_aug, result_test_aug)"
   ]
  },
  {
   "cell_type": "markdown",
   "metadata": {},
   "source": [
    "## CNN Models"
   ]
  },
  {
   "cell_type": "code",
   "execution_count": 18,
   "metadata": {},
   "outputs": [
    {
     "name": "stdout",
     "output_type": "stream",
     "text": [
      "Epoch 1/15\n",
      "40/40 [==============================] - 289s 7s/step - loss: 1.6083 - accuracy: 0.2201 - recall: 0.0000e+00 - val_loss: 1.5949 - val_accuracy: 0.2453 - val_recall: 0.0000e+00\n",
      "Epoch 2/15\n",
      "40/40 [==============================] - 275s 7s/step - loss: 1.5788 - accuracy: 0.2666 - recall: 0.0023 - val_loss: 1.5508 - val_accuracy: 0.3034 - val_recall: 0.0000e+00\n",
      "Epoch 3/15\n",
      "40/40 [==============================] - 279s 7s/step - loss: 1.5422 - accuracy: 0.3158 - recall: 0.0096 - val_loss: 1.5393 - val_accuracy: 0.3009 - val_recall: 0.0012\n",
      "Epoch 4/15\n",
      "40/40 [==============================] - 290s 7s/step - loss: 1.5263 - accuracy: 0.3314 - recall: 0.0219 - val_loss: 1.5067 - val_accuracy: 0.3316 - val_recall: 0.0850\n",
      "Epoch 5/15\n",
      "40/40 [==============================] - 304s 7s/step - loss: 1.5001 - accuracy: 0.3344 - recall: 0.0545 - val_loss: 1.4718 - val_accuracy: 0.3519 - val_recall: 0.0959\n",
      "Epoch 6/15\n",
      "40/40 [==============================] - 287s 7s/step - loss: 1.4908 - accuracy: 0.3346 - recall: 0.0605 - val_loss: 1.4915 - val_accuracy: 0.3256 - val_recall: 0.0406\n",
      "Epoch 7/15\n",
      "40/40 [==============================] - 254s 6s/step - loss: 1.4773 - accuracy: 0.3439 - recall: 0.0650 - val_loss: 1.4687 - val_accuracy: 0.3531 - val_recall: 0.0306\n",
      "Epoch 8/15\n",
      "40/40 [==============================] - 257s 6s/step - loss: 1.4672 - accuracy: 0.3520 - recall: 0.0703 - val_loss: 1.4622 - val_accuracy: 0.3462 - val_recall: 0.0341\n",
      "Epoch 9/15\n",
      "40/40 [==============================] - 269s 7s/step - loss: 1.4351 - accuracy: 0.3723 - recall: 0.0871 - val_loss: 1.4378 - val_accuracy: 0.3644 - val_recall: 0.0775\n",
      "Epoch 10/15\n",
      "40/40 [==============================] - 273s 7s/step - loss: 1.4113 - accuracy: 0.3789 - recall: 0.0934 - val_loss: 1.4119 - val_accuracy: 0.3666 - val_recall: 0.0800\n",
      "Epoch 11/15\n",
      "40/40 [==============================] - 243s 6s/step - loss: 1.3911 - accuracy: 0.3912 - recall: 0.1092 - val_loss: 1.4135 - val_accuracy: 0.3944 - val_recall: 0.1616\n",
      "Epoch 12/15\n",
      "40/40 [==============================] - 242s 6s/step - loss: 1.3652 - accuracy: 0.4006 - recall: 0.1199 - val_loss: 1.3852 - val_accuracy: 0.3922 - val_recall: 0.1153\n",
      "Epoch 13/15\n",
      "40/40 [==============================] - 243s 6s/step - loss: 1.3517 - accuracy: 0.4187 - recall: 0.1385 - val_loss: 1.3715 - val_accuracy: 0.3972 - val_recall: 0.1781\n",
      "Epoch 14/15\n",
      "40/40 [==============================] - 244s 6s/step - loss: 1.3569 - accuracy: 0.4037 - recall: 0.1305 - val_loss: 1.3287 - val_accuracy: 0.4313 - val_recall: 0.1756\n",
      "Epoch 15/15\n",
      "40/40 [==============================] - 242s 6s/step - loss: 1.3249 - accuracy: 0.4275 - recall: 0.1607 - val_loss: 1.3417 - val_accuracy: 0.4144 - val_recall: 0.1209\n"
     ]
    }
   ],
   "source": [
    "cnn_model_aug = models.Sequential()\n",
    "\n",
    "cnn_model_aug.add(Conv2D(32, (3, 3), activation='relu', input_shape=(256, 256, 3)))\n",
    "cnn_model_aug.add(MaxPooling2D((2, 2)))\n",
    "cnn_model_aug.add(Conv2D(64, (3, 3), activation='relu'))\n",
    "cnn_model_aug.add(MaxPooling2D((2, 2)))\n",
    "cnn_model_aug.add(Conv2D(128, (3, 3), activation='relu'))\n",
    "cnn_model_aug.add(MaxPooling2D((2, 2)))\n",
    "cnn_model_aug.add(Conv2D(128, (3, 3), activation='relu'))\n",
    "cnn_model_aug.add(MaxPooling2D((2, 2)))\n",
    "cnn_model_aug.add(Flatten())\n",
    "cnn_model_aug.add(Dense(64, activation='relu'))\n",
    "cnn_model_aug.add(Dense(32, activation='relu'))\n",
    "cnn_model_aug.add(Dense(16, activation='relu'))\n",
    "cnn_model_aug.add(Dense(5, activation='softmax'))\n",
    "\n",
    "cnn_model_aug.compile(optimizer='Adam',\n",
    "              loss='categorical_crossentropy',\n",
    "              metrics=['accuracy', 'Recall'])\n",
    "\n",
    "result = cnn_model_aug.fit(train_generator_aug,\n",
    "                    steps_per_epoch=40,\n",
    "                    epochs=15,\n",
    "                    batch_size=64,\n",
    "                    validation_data=(validation_generator_aug),\n",
    "                    validation_steps=25)"
   ]
  },
  {
   "cell_type": "code",
   "execution_count": 19,
   "metadata": {},
   "outputs": [
    {
     "name": "stdout",
     "output_type": "stream",
     "text": [
      "125/125 [==============================] - 263s 2s/step - loss: 1.3363 - accuracy: 0.4161 - recall: 0.1269\n",
      "40/40 [==============================] - 82s 2s/step - loss: 1.3474 - accuracy: 0.4050 - recall: 0.1216\n",
      "25/25 [==============================] - 65s 3s/step - loss: 1.3310 - accuracy: 0.4221 - recall: 0.1258\n",
      "[1.336323618888855, 0.41606250405311584, 0.12687499821186066] [1.3473824262619019, 0.4050000011920929, 0.12160000205039978] [1.3309515714645386, 0.42213642597198486, 0.1258043795824051]\n"
     ]
    }
   ],
   "source": [
    "cnn_result_train_aug = cnn_model_aug.evaluate(train_generator_aug)\n",
    "cnn_result_validation_aug = cnn_model_aug.evaluate(validation_generator_aug)\n",
    "cnn_result_test_aug = cnn_model_aug.evaluate(test_generator_aug)\n",
    "\n",
    "print(cnn_result_train_aug, cnn_result_validation_aug, cnn_result_test_aug)"
   ]
  },
  {
   "cell_type": "markdown",
   "metadata": {},
   "source": [
    "#### Adding Drop layers"
   ]
  },
  {
   "cell_type": "code",
   "execution_count": 20,
   "metadata": {},
   "outputs": [
    {
     "name": "stdout",
     "output_type": "stream",
     "text": [
      "Epoch 1/15\n",
      "40/40 [==============================] - 253s 6s/step - loss: 1.6000 - accuracy: 0.2451 - recall: 0.0000e+00 - val_loss: 1.5980 - val_accuracy: 0.2256 - val_recall: 0.0000e+00\n",
      "Epoch 2/15\n",
      "40/40 [==============================] - 250s 6s/step - loss: 1.5754 - accuracy: 0.2615 - recall: 0.0096 - val_loss: 1.5775 - val_accuracy: 0.3025 - val_recall: 0.0000e+00\n",
      "Epoch 3/15\n",
      "40/40 [==============================] - 250s 6s/step - loss: 1.5326 - accuracy: 0.3080 - recall: 0.0180 - val_loss: 1.5129 - val_accuracy: 0.3369 - val_recall: 6.2500e-04\n",
      "Epoch 4/15\n",
      "40/40 [==============================] - 250s 6s/step - loss: 1.4997 - accuracy: 0.3318 - recall: 0.0482 - val_loss: 1.4864 - val_accuracy: 0.3534 - val_recall: 0.0137\n",
      "Epoch 5/15\n",
      "40/40 [==============================] - 295s 7s/step - loss: 1.4840 - accuracy: 0.3414 - recall: 0.0529 - val_loss: 1.5333 - val_accuracy: 0.2972 - val_recall: 0.0019\n",
      "Epoch 6/15\n",
      "40/40 [==============================] - 315s 8s/step - loss: 1.4814 - accuracy: 0.3377 - recall: 0.0549 - val_loss: 1.4818 - val_accuracy: 0.3319 - val_recall: 0.0341\n",
      "Epoch 7/15\n",
      "40/40 [==============================] - 311s 8s/step - loss: 1.4574 - accuracy: 0.3562 - recall: 0.0650 - val_loss: 1.4725 - val_accuracy: 0.3500 - val_recall: 0.0334\n",
      "Epoch 8/15\n",
      "40/40 [==============================] - 267s 7s/step - loss: 1.4265 - accuracy: 0.3705 - recall: 0.0918 - val_loss: 1.4296 - val_accuracy: 0.3669 - val_recall: 0.0566\n",
      "Epoch 9/15\n",
      "40/40 [==============================] - 292s 7s/step - loss: 1.4267 - accuracy: 0.3701 - recall: 0.0914 - val_loss: 1.4254 - val_accuracy: 0.3681 - val_recall: 0.0597\n",
      "Epoch 10/15\n",
      "40/40 [==============================] - 280s 7s/step - loss: 1.4303 - accuracy: 0.3699 - recall: 0.0826 - val_loss: 1.4389 - val_accuracy: 0.3656 - val_recall: 0.0675\n",
      "Epoch 11/15\n",
      "40/40 [==============================] - 249s 6s/step - loss: 1.4177 - accuracy: 0.3836 - recall: 0.0998 - val_loss: 1.3920 - val_accuracy: 0.3841 - val_recall: 0.1075\n",
      "Epoch 12/15\n",
      "40/40 [==============================] - 267s 7s/step - loss: 1.3693 - accuracy: 0.3990 - recall: 0.1328 - val_loss: 1.3729 - val_accuracy: 0.4109 - val_recall: 0.1181\n",
      "Epoch 13/15\n",
      "40/40 [==============================] - 301s 7s/step - loss: 1.3874 - accuracy: 0.3971 - recall: 0.1141 - val_loss: 1.4038 - val_accuracy: 0.3809 - val_recall: 0.0919\n",
      "Epoch 14/15\n",
      "40/40 [==============================] - 301s 8s/step - loss: 1.3859 - accuracy: 0.3885 - recall: 0.1219 - val_loss: 1.3673 - val_accuracy: 0.4059 - val_recall: 0.1031\n",
      "Epoch 15/15\n",
      "40/40 [==============================] - 314s 8s/step - loss: 1.3567 - accuracy: 0.4057 - recall: 0.1316 - val_loss: 1.3381 - val_accuracy: 0.4141 - val_recall: 0.1184\n"
     ]
    }
   ],
   "source": [
    "cnn_model_aug2 = models.Sequential()\n",
    "\n",
    "cnn_model_aug2.add(Conv2D(32, (3, 3), activation='relu', input_shape=(256, 256, 3)))\n",
    "cnn_model_aug2.add(MaxPooling2D((2, 2)))\n",
    "cnn_model_aug2.add(Conv2D(64, (3, 3), activation='relu'))\n",
    "cnn_model_aug2.add(MaxPooling2D((2, 2)))\n",
    "cnn_model_aug2.add(Dropout(0.25))\n",
    "cnn_model_aug2.add(Conv2D(128, (3, 3), activation='relu'))\n",
    "cnn_model_aug2.add(MaxPooling2D((2, 2)))\n",
    "cnn_model_aug2.add(Conv2D(128, (3, 3), activation='relu'))\n",
    "cnn_model_aug2.add(MaxPooling2D((2, 2)))\n",
    "cnn_model_aug2.add(Dropout(0.25))\n",
    "cnn_model_aug2.add(Flatten())\n",
    "cnn_model_aug2.add(Dense(64, activation='relu'))\n",
    "cnn_model_aug2.add(Dense(32, activation='relu'))\n",
    "cnn_model_aug2.add(Dense(16, activation='relu'))\n",
    "cnn_model_aug2.add(Dense(5, activation='softmax'))\n",
    "\n",
    "cnn_model_aug2.compile(optimizer='Adam',\n",
    "              loss='categorical_crossentropy',\n",
    "              metrics=['accuracy', 'Recall'])\n",
    "\n",
    "result2 = cnn_model_aug2.fit(train_generator_aug,\n",
    "                    steps_per_epoch=40,\n",
    "                    epochs=15,\n",
    "                    batch_size=64,\n",
    "                    validation_data=(validation_generator_aug),\n",
    "                    validation_steps=25)"
   ]
  },
  {
   "cell_type": "code",
   "execution_count": 21,
   "metadata": {},
   "outputs": [
    {
     "name": "stdout",
     "output_type": "stream",
     "text": [
      "125/125 [==============================] - 305s 2s/step - loss: 1.3316 - accuracy: 0.4181 - recall: 0.1191\n",
      "40/40 [==============================] - 93s 2s/step - loss: 1.3360 - accuracy: 0.4162 - recall: 0.1184\n",
      "25/25 [==============================] - 56s 2s/step - loss: 1.3300 - accuracy: 0.4225 - recall: 0.1174\n",
      "[1.331594467163086, 0.4180625081062317, 0.11912500113248825] [1.3359681367874146, 0.41620001196861267, 0.11840000003576279] [1.3300310373306274, 0.4224581718444824, 0.11743886768817902]\n"
     ]
    }
   ],
   "source": [
    "cnn_result_train_aug2 = cnn_model_aug2.evaluate(train_generator_aug)\n",
    "cnn_result_validation_aug2 = cnn_model_aug2.evaluate(validation_generator_aug)\n",
    "cnn_result_test_aug2 = cnn_model_aug2.evaluate(test_generator_aug)\n",
    "\n",
    "print(cnn_result_train_aug2, cnn_result_validation_aug2, cnn_result_test_aug2)"
   ]
  },
  {
   "cell_type": "markdown",
   "metadata": {},
   "source": [
    "#### Add More Layers"
   ]
  },
  {
   "cell_type": "code",
   "execution_count": 23,
   "metadata": {},
   "outputs": [
    {
     "name": "stdout",
     "output_type": "stream",
     "text": [
      "Epoch 1/15\n",
      "40/40 [==============================] - 330s 8s/step - loss: 1.6044 - accuracy: 0.2314 - recall: 0.0000e+00 - val_loss: 1.6025 - val_accuracy: 0.2550 - val_recall: 0.0000e+00\n",
      "Epoch 2/15\n",
      "40/40 [==============================] - 304s 8s/step - loss: 1.5812 - accuracy: 0.2701 - recall: 0.0018 - val_loss: 1.5714 - val_accuracy: 0.2806 - val_recall: 0.0244\n",
      "Epoch 3/15\n",
      "40/40 [==============================] - 309s 8s/step - loss: 1.5624 - accuracy: 0.2945 - recall: 0.0098 - val_loss: 1.5309 - val_accuracy: 0.3319 - val_recall: 0.0328\n",
      "Epoch 4/15\n",
      "40/40 [==============================] - 317s 8s/step - loss: 1.5279 - accuracy: 0.3178 - recall: 0.0289 - val_loss: 1.5103 - val_accuracy: 0.3328 - val_recall: 0.0362\n",
      "Epoch 5/15\n",
      "40/40 [==============================] - 316s 8s/step - loss: 1.5243 - accuracy: 0.3211 - recall: 0.0340 - val_loss: 1.5266 - val_accuracy: 0.3247 - val_recall: 0.0019\n",
      "Epoch 6/15\n",
      "40/40 [==============================] - 333s 8s/step - loss: 1.4911 - accuracy: 0.3313 - recall: 0.0355 - val_loss: 1.4846 - val_accuracy: 0.3447 - val_recall: 0.0453\n",
      "Epoch 7/15\n",
      "40/40 [==============================] - 322s 8s/step - loss: 1.4618 - accuracy: 0.3432 - recall: 0.0643 - val_loss: 1.4879 - val_accuracy: 0.3431 - val_recall: 0.0166\n",
      "Epoch 8/15\n",
      "40/40 [==============================] - 318s 8s/step - loss: 1.4750 - accuracy: 0.3471 - recall: 0.0541 - val_loss: 1.4786 - val_accuracy: 0.3663 - val_recall: 0.0909\n",
      "Epoch 9/15\n",
      "40/40 [==============================] - 336s 8s/step - loss: 1.4447 - accuracy: 0.3711 - recall: 0.0727 - val_loss: 1.4535 - val_accuracy: 0.3606 - val_recall: 0.1134\n",
      "Epoch 10/15\n",
      "40/40 [==============================] - 348s 9s/step - loss: 1.4339 - accuracy: 0.3748 - recall: 0.0787 - val_loss: 1.4317 - val_accuracy: 0.3725 - val_recall: 0.1312\n",
      "Epoch 11/15\n",
      "40/40 [==============================] - 341s 9s/step - loss: 1.4112 - accuracy: 0.3758 - recall: 0.0953 - val_loss: 1.3968 - val_accuracy: 0.3866 - val_recall: 0.1159\n",
      "Epoch 12/15\n",
      "40/40 [==============================] - 345s 9s/step - loss: 1.3953 - accuracy: 0.3891 - recall: 0.1098 - val_loss: 1.3825 - val_accuracy: 0.4034 - val_recall: 0.1381\n",
      "Epoch 13/15\n",
      "40/40 [==============================] - 342s 9s/step - loss: 1.3752 - accuracy: 0.3918 - recall: 0.1256 - val_loss: 1.3482 - val_accuracy: 0.4062 - val_recall: 0.1247\n",
      "Epoch 14/15\n",
      "40/40 [==============================] - 348s 9s/step - loss: 1.3935 - accuracy: 0.3791 - recall: 0.1047 - val_loss: 1.3580 - val_accuracy: 0.4119 - val_recall: 0.1131\n",
      "Epoch 15/15\n",
      "40/40 [==============================] - 327s 8s/step - loss: 1.3620 - accuracy: 0.4092 - recall: 0.1328 - val_loss: 1.3496 - val_accuracy: 0.4131 - val_recall: 0.1119\n"
     ]
    }
   ],
   "source": [
    "cnn_model_aug3 = models.Sequential()\n",
    "\n",
    "cnn_model_aug3.add(Conv2D(32, (3, 3), activation='relu', input_shape=(256, 256, 3)))\n",
    "cnn_model_aug3.add(MaxPooling2D((2, 2)))\n",
    "cnn_model_aug3.add(Conv2D(64, (3, 3), activation='relu'))\n",
    "cnn_model_aug3.add(MaxPooling2D((2, 2)))\n",
    "cnn_model_aug3.add(Conv2D(256, (3, 3), activation='relu'))\n",
    "cnn_model_aug3.add(MaxPooling2D((2, 2)))\n",
    "cnn_model_aug3.add(Dropout(0.25))\n",
    "cnn_model_aug3.add(Conv2D(128, (3, 3), activation='relu'))\n",
    "cnn_model_aug3.add(MaxPooling2D((2, 2)))\n",
    "cnn_model_aug3.add(Conv2D(128, (3, 3), activation='relu'))\n",
    "cnn_model_aug3.add(MaxPooling2D((2, 2)))\n",
    "cnn_model_aug3.add(Dropout(0.25))\n",
    "cnn_model_aug3.add(Flatten())\n",
    "cnn_model_aug3.add(Dense(256, activation='relu'))\n",
    "cnn_model_aug3.add(Dense(128, activation='relu'))\n",
    "cnn_model_aug3.add(Dense(32, activation='relu'))\n",
    "cnn_model_aug3.add(Dense(16, activation='relu'))\n",
    "cnn_model_aug3.add(Dense(5, activation='softmax'))\n",
    "\n",
    "cnn_model_aug3.compile(optimizer='Adam',\n",
    "              loss='categorical_crossentropy',\n",
    "              metrics=['accuracy', 'Recall'])\n",
    "\n",
    "result3 = cnn_model_aug3.fit(train_generator_aug,\n",
    "                    steps_per_epoch=40,\n",
    "                    epochs=15,\n",
    "                    batch_size=64,\n",
    "                    validation_data=(validation_generator_aug),\n",
    "                    validation_steps=25)"
   ]
  },
  {
   "cell_type": "code",
   "execution_count": 24,
   "metadata": {},
   "outputs": [
    {
     "name": "stdout",
     "output_type": "stream",
     "text": [
      "125/125 [==============================] - 291s 2s/step - loss: 1.3350 - accuracy: 0.4214 - recall: 0.1177\n",
      "40/40 [==============================] - 90s 2s/step - loss: 1.3486 - accuracy: 0.4194 - recall: 0.1162\n",
      "25/25 [==============================] - 60s 2s/step - loss: 1.3263 - accuracy: 0.4163 - recall: 0.1178\n",
      "[1.3349798917770386, 0.42143750190734863, 0.11768750101327896] [1.3485873937606812, 0.41940000653266907, 0.11620000004768372] [1.3263393640518188, 0.41634491086006165, 0.11776062101125717]\n"
     ]
    }
   ],
   "source": [
    "cnn_result_train_aug3 = cnn_model_aug3.evaluate(train_generator_aug)\n",
    "cnn_result_validation_aug3 = cnn_model_aug3.evaluate(validation_generator_aug)\n",
    "cnn_result_test_aug3 = cnn_model_aug3.evaluate(test_generator_aug)\n",
    "\n",
    "print(cnn_result_train_aug3, cnn_result_validation_aug3, cnn_result_test_aug3)"
   ]
  },
  {
   "cell_type": "code",
   "execution_count": 25,
   "metadata": {},
   "outputs": [
    {
     "name": "stdout",
     "output_type": "stream",
     "text": [
      "Epoch 1/15\n",
      "40/40 [==============================] - 347s 9s/step - loss: 1.6110 - accuracy: 0.2877 - recall: 0.0688 - val_loss: 1.9979 - val_accuracy: 0.2559 - val_recall: 0.1169\n",
      "Epoch 2/15\n",
      "40/40 [==============================] - 349s 9s/step - loss: 1.5203 - accuracy: 0.3217 - recall: 0.0580 - val_loss: 2.0197 - val_accuracy: 0.1966 - val_recall: 0.1609\n",
      "Epoch 3/15\n",
      "40/40 [==============================] - 339s 8s/step - loss: 1.4933 - accuracy: 0.3420 - recall: 0.0680 - val_loss: 2.2228 - val_accuracy: 0.1922 - val_recall: 0.1922\n",
      "Epoch 4/15\n",
      "40/40 [==============================] - 327s 8s/step - loss: 1.4606 - accuracy: 0.3525 - recall: 0.0779 - val_loss: 2.2417 - val_accuracy: 0.1984 - val_recall: 0.1975\n",
      "Epoch 5/15\n",
      "40/40 [==============================] - 320s 8s/step - loss: 1.4582 - accuracy: 0.3613 - recall: 0.0871 - val_loss: 2.1340 - val_accuracy: 0.1919 - val_recall: 0.1919\n",
      "Epoch 6/15\n",
      "40/40 [==============================] - 317s 8s/step - loss: 1.4343 - accuracy: 0.3668 - recall: 0.0945 - val_loss: 3.3093 - val_accuracy: 0.1950 - val_recall: 0.1950\n",
      "Epoch 7/15\n",
      "40/40 [==============================] - 319s 8s/step - loss: 1.4045 - accuracy: 0.3783 - recall: 0.1139 - val_loss: 2.4103 - val_accuracy: 0.1925 - val_recall: 0.1922\n",
      "Epoch 8/15\n",
      "40/40 [==============================] - 319s 8s/step - loss: 1.3883 - accuracy: 0.3902 - recall: 0.1229 - val_loss: 3.0223 - val_accuracy: 0.1981 - val_recall: 0.1969\n",
      "Epoch 9/15\n",
      "40/40 [==============================] - 318s 8s/step - loss: 1.3734 - accuracy: 0.3947 - recall: 0.1248 - val_loss: 2.1697 - val_accuracy: 0.2019 - val_recall: 0.1912\n",
      "Epoch 10/15\n",
      "40/40 [==============================] - 343s 9s/step - loss: 1.3636 - accuracy: 0.4018 - recall: 0.1512 - val_loss: 1.7869 - val_accuracy: 0.2353 - val_recall: 0.1734\n",
      "Epoch 11/15\n",
      "40/40 [==============================] - 351s 9s/step - loss: 1.3447 - accuracy: 0.4061 - recall: 0.1553 - val_loss: 1.5816 - val_accuracy: 0.2747 - val_recall: 0.1572\n",
      "Epoch 12/15\n",
      "40/40 [==============================] - 349s 9s/step - loss: 1.3340 - accuracy: 0.4070 - recall: 0.1496 - val_loss: 1.6055 - val_accuracy: 0.2459 - val_recall: 0.1206\n",
      "Epoch 13/15\n",
      "40/40 [==============================] - 369s 9s/step - loss: 1.3340 - accuracy: 0.4164 - recall: 0.1625 - val_loss: 1.8647 - val_accuracy: 0.2397 - val_recall: 0.1353\n",
      "Epoch 14/15\n",
      "40/40 [==============================] - 364s 9s/step - loss: 1.2846 - accuracy: 0.4404 - recall: 0.1855 - val_loss: 1.7016 - val_accuracy: 0.2825 - val_recall: 0.0606\n",
      "Epoch 15/15\n",
      "40/40 [==============================] - 326s 8s/step - loss: 1.2732 - accuracy: 0.4506 - recall: 0.2049 - val_loss: 1.8541 - val_accuracy: 0.2584 - val_recall: 0.1663\n"
     ]
    }
   ],
   "source": [
    "cnn_model_aug4 = models.Sequential()\n",
    "\n",
    "cnn_model_aug4.add(Conv2D(32, (3, 3), activation='relu', input_shape=(256, 256, 3)))\n",
    "cnn_model_aug4.add(MaxPooling2D((2, 2)))\n",
    "cnn_model_aug4.add(Conv2D(64, (3, 3), activation='relu'))\n",
    "cnn_model_aug4.add(BatchNormalization())\n",
    "cnn_model_aug4.add(MaxPooling2D((2, 2)))\n",
    "cnn_model_aug4.add(Conv2D(256, (3, 3), activation='relu'))\n",
    "cnn_model_aug4.add(MaxPooling2D((2, 2)))\n",
    "cnn_model_aug4.add(Dropout(0.25))\n",
    "cnn_model_aug4.add(Conv2D(128, (3, 3), activation='relu'))\n",
    "cnn_model_aug4.add(MaxPooling2D((2, 2)))\n",
    "cnn_model_aug4.add(Conv2D(128, (3, 3), activation='relu'))\n",
    "cnn_model_aug4.add(BatchNormalization())\n",
    "cnn_model_aug4.add(MaxPooling2D((2, 2)))\n",
    "cnn_model_aug4.add(Dropout(0.25))\n",
    "cnn_model_aug4.add(Flatten())\n",
    "cnn_model_aug4.add(Dense(256, activation='relu'))\n",
    "cnn_model_aug4.add(Dense(128, activation='relu'))\n",
    "cnn_model_aug4.add(BatchNormalization())\n",
    "cnn_model_aug4.add(Dense(32, activation='relu'))\n",
    "cnn_model_aug4.add(Dense(16, activation='relu'))\n",
    "cnn_model_aug4.add(Dense(5, activation='softmax'))\n",
    "\n",
    "cnn_model_aug4.compile(optimizer='Adam',\n",
    "              loss='categorical_crossentropy',\n",
    "              metrics=['accuracy', 'Recall'])\n",
    "\n",
    "result4 = cnn_model_aug4.fit(train_generator_aug,\n",
    "                    steps_per_epoch=40,\n",
    "                    epochs=15,\n",
    "                    batch_size=64,\n",
    "                    validation_data=(validation_generator_aug),\n",
    "                    validation_steps=25)"
   ]
  },
  {
   "cell_type": "code",
   "execution_count": 26,
   "metadata": {},
   "outputs": [
    {
     "name": "stdout",
     "output_type": "stream",
     "text": [
      "125/125 [==============================] - 330s 3s/step - loss: 1.8909 - accuracy: 0.2534 - recall: 0.1618\n",
      "40/40 [==============================] - 97s 2s/step - loss: 1.8644 - accuracy: 0.2550 - recall: 0.1650\n",
      "25/25 [==============================] - 61s 2s/step - loss: 1.8502 - accuracy: 0.2683 - recall: 0.1754\n",
      "[1.8909319639205933, 0.25343748927116394, 0.16181249916553497] [1.8644468784332275, 0.2549999952316284, 0.16500000655651093] [1.8502285480499268, 0.26833978295326233, 0.17535392940044403]\n"
     ]
    }
   ],
   "source": [
    "cnn_result_train_aug4 = cnn_model_aug4.evaluate(train_generator_aug)\n",
    "cnn_result_validation_aug4 = cnn_model_aug4.evaluate(validation_generator_aug)\n",
    "cnn_result_test_aug4 = cnn_model_aug4.evaluate(test_generator_aug)\n",
    "\n",
    "print(cnn_result_train_aug4, cnn_result_validation_aug4, cnn_result_test_aug4)"
   ]
  },
  {
   "cell_type": "code",
   "execution_count": 29,
   "metadata": {},
   "outputs": [
    {
     "name": "stdout",
     "output_type": "stream",
     "text": [
      "Epoch 1/15\n",
      "40/40 [==============================] - 275s 7s/step - loss: 3.9150 - accuracy: 0.2188 - recall: 0.0041 - val_loss: 2.7623 - val_accuracy: 0.2172 - val_recall: 0.0000e+00\n",
      "Epoch 2/15\n",
      "40/40 [==============================] - 252s 6s/step - loss: 2.4029 - accuracy: 0.2627 - recall: 0.0000e+00 - val_loss: 2.1652 - val_accuracy: 0.2669 - val_recall: 0.0000e+00\n",
      "Epoch 3/15\n",
      "40/40 [==============================] - 274s 7s/step - loss: 2.0321 - accuracy: 0.2867 - recall: 0.0061 - val_loss: 1.9575 - val_accuracy: 0.2716 - val_recall: 0.0000e+00\n",
      "Epoch 4/15\n",
      "40/40 [==============================] - 277s 7s/step - loss: 1.8754 - accuracy: 0.2973 - recall: 0.0111 - val_loss: 1.8284 - val_accuracy: 0.3147 - val_recall: 0.0000e+00\n",
      "Epoch 5/15\n",
      "40/40 [==============================] - 279s 7s/step - loss: 1.7758 - accuracy: 0.3145 - recall: 0.0064 - val_loss: 1.7358 - val_accuracy: 0.3294 - val_recall: 0.0153\n",
      "Epoch 6/15\n",
      "40/40 [==============================] - 268s 7s/step - loss: 1.7089 - accuracy: 0.3189 - recall: 0.0236 - val_loss: 1.7180 - val_accuracy: 0.3056 - val_recall: 0.0000e+00\n",
      "Epoch 7/15\n",
      "40/40 [==============================] - 288s 7s/step - loss: 1.6771 - accuracy: 0.3240 - recall: 0.0232 - val_loss: 1.6749 - val_accuracy: 0.3241 - val_recall: 0.0000e+00\n",
      "Epoch 8/15\n",
      "40/40 [==============================] - 277s 7s/step - loss: 1.6703 - accuracy: 0.3051 - recall: 0.0063 - val_loss: 1.6527 - val_accuracy: 0.3278 - val_recall: 3.1250e-04\n",
      "Epoch 9/15\n",
      "40/40 [==============================] - 317s 8s/step - loss: 1.6309 - accuracy: 0.3176 - recall: 0.0312 - val_loss: 1.6344 - val_accuracy: 0.3325 - val_recall: 0.0375\n",
      "Epoch 10/15\n",
      "40/40 [==============================] - 308s 8s/step - loss: 1.6157 - accuracy: 0.3291 - recall: 0.0279 - val_loss: 1.6087 - val_accuracy: 0.3266 - val_recall: 0.0484\n",
      "Epoch 11/15\n",
      "40/40 [==============================] - 295s 7s/step - loss: 1.5969 - accuracy: 0.3275 - recall: 0.0309 - val_loss: 1.6080 - val_accuracy: 0.3278 - val_recall: 3.1250e-04\n",
      "Epoch 12/15\n",
      "40/40 [==============================] - 276s 7s/step - loss: 1.6029 - accuracy: 0.3186 - recall: 0.0264 - val_loss: 1.6037 - val_accuracy: 0.3334 - val_recall: 0.0000e+00\n",
      "Epoch 13/15\n",
      "40/40 [==============================] - 272s 7s/step - loss: 1.5889 - accuracy: 0.3318 - recall: 0.0203 - val_loss: 1.6296 - val_accuracy: 0.3109 - val_recall: 0.0547\n",
      "Epoch 14/15\n",
      "40/40 [==============================] - 280s 7s/step - loss: 1.5844 - accuracy: 0.3287 - recall: 0.0301 - val_loss: 1.5915 - val_accuracy: 0.3319 - val_recall: 0.0000e+00\n",
      "Epoch 15/15\n",
      "40/40 [==============================] - 264s 7s/step - loss: 1.5772 - accuracy: 0.3291 - recall: 0.0287 - val_loss: 1.5845 - val_accuracy: 0.3197 - val_recall: 0.0078\n"
     ]
    }
   ],
   "source": [
    "cnn_model_aug5 = models.Sequential()\n",
    "\n",
    "cnn_model_aug5.add(Conv2D(32, (3, 3), activation='relu', kernel_regularizer=l2(l2=0.01), input_shape=(256, 256, 3)))\n",
    "cnn_model_aug5.add(MaxPooling2D((2, 2)))\n",
    "cnn_model_aug5.add(Conv2D(64, (3, 3), activation='relu', kernel_regularizer=l2(l2=0.01)))\n",
    "cnn_model_aug5.add(MaxPooling2D((2, 2)))\n",
    "cnn_model_aug5.add(Dropout(0.25))\n",
    "cnn_model_aug5.add(Conv2D(128, (3, 3), activation='relu', kernel_regularizer=l2(l2=0.01)))\n",
    "cnn_model_aug5.add(MaxPooling2D((2, 2)))\n",
    "cnn_model_aug5.add(Conv2D(128, (3, 3), activation='relu', kernel_regularizer=l2(l2=0.01)))\n",
    "cnn_model_aug5.add(MaxPooling2D((2, 2)))\n",
    "cnn_model_aug5.add(Dropout(0.25))\n",
    "cnn_model_aug5.add(Flatten())\n",
    "cnn_model_aug5.add(Dense(64, activation='relu', kernel_regularizer=l2(l2=0.01)))\n",
    "cnn_model_aug5.add(Dense(32, activation='relu', kernel_regularizer=l2(l2=0.01)))\n",
    "cnn_model_aug5.add(Dense(16, activation='relu', kernel_regularizer=l2(l2=0.01)))\n",
    "cnn_model_aug5.add(Dense(5, activation='softmax'))\n",
    "\n",
    "cnn_model_aug5.compile(optimizer='Adam',\n",
    "              loss='categorical_crossentropy',\n",
    "              metrics=['accuracy', 'Recall'])\n",
    "\n",
    "result5 = cnn_model_aug5.fit(train_generator_aug,\n",
    "                    steps_per_epoch=40,\n",
    "                    epochs=15,\n",
    "                    batch_size=64,\n",
    "                    validation_data=(validation_generator_aug),\n",
    "                    validation_steps=25)"
   ]
  },
  {
   "cell_type": "code",
   "execution_count": 30,
   "metadata": {},
   "outputs": [
    {
     "name": "stdout",
     "output_type": "stream",
     "text": [
      "125/125 [==============================] - 266s 2s/step - loss: 1.5813 - accuracy: 0.3287 - recall: 0.0100\n",
      "40/40 [==============================] - 82s 2s/step - loss: 1.5877 - accuracy: 0.3212 - recall: 0.0084\n",
      "25/25 [==============================] - 53s 2s/step - loss: 1.5737 - accuracy: 0.3285 - recall: 0.0071\n",
      "[1.5812952518463135, 0.32868748903274536, 0.009999999776482582] [1.5876986980438232, 0.32120001316070557, 0.00839999970048666] [1.5737195014953613, 0.32850706577301025, 0.007078506983816624]\n"
     ]
    }
   ],
   "source": [
    "cnn_result_train_aug5 = cnn_model_aug5.evaluate(train_generator_aug)\n",
    "cnn_result_validation_aug5 = cnn_model_aug5.evaluate(validation_generator_aug)\n",
    "cnn_result_test_aug5 = cnn_model_aug5.evaluate(test_generator_aug)\n",
    "\n",
    "print(cnn_result_train_aug5, cnn_result_validation_aug5, cnn_result_test_aug5)"
   ]
  },
  {
   "cell_type": "markdown",
   "metadata": {},
   "source": [
    "#### Class Weights"
   ]
  },
  {
   "cell_type": "code",
   "execution_count": 31,
   "metadata": {},
   "outputs": [
    {
     "name": "stderr",
     "output_type": "stream",
     "text": [
      "C:\\Users\\soohy\\anaconda3\\lib\\site-packages\\sklearn\\utils\\validation.py:70: FutureWarning: Pass classes=[0 1 2 3 4], y=[0 0 0 ... 4 4 4] as keyword args. From version 1.0 (renaming of 0.25) passing these as positional arguments will result in an error\n",
      "  warnings.warn(f\"Pass {args_msg} as keyword args. From version \"\n"
     ]
    },
    {
     "data": {
      "text/plain": [
       "{0: 0.9216589861751152,\n",
       " 1: 0.9577970667464831,\n",
       " 2: 0.9088327179778471,\n",
       " 3: 1.2260536398467432,\n",
       " 4: 1.0471204188481675}"
      ]
     },
     "execution_count": 31,
     "metadata": {},
     "output_type": "execute_result"
    }
   ],
   "source": [
    "weight = class_weight.compute_class_weight(\n",
    "           'balanced',\n",
    "            np.unique(train_generator_aug.classes), \n",
    "            train_generator_aug.classes)\n",
    "\n",
    "train_class_weights = dict(enumerate(weight))\n",
    "train_class_weights"
   ]
  },
  {
   "cell_type": "code",
   "execution_count": 37,
   "metadata": {},
   "outputs": [
    {
     "name": "stdout",
     "output_type": "stream",
     "text": [
      "Epoch 1/15\n",
      "40/40 [==============================] - 360s 9s/step - loss: 1.8066 - accuracy: 0.1461 - recall: 0.0000e+00 - val_loss: 1.8327 - val_accuracy: 0.1444 - val_recall: 0.0000e+00\n",
      "Epoch 2/15\n",
      "40/40 [==============================] - 351s 9s/step - loss: 1.7713 - accuracy: 0.1305 - recall: 0.0000e+00 - val_loss: 1.7644 - val_accuracy: 0.2028 - val_recall: 0.0000e+00\n",
      "Epoch 3/15\n",
      "40/40 [==============================] - 342s 9s/step - loss: 1.7220 - accuracy: 0.2422 - recall: 0.0051 - val_loss: 1.6537 - val_accuracy: 0.2991 - val_recall: 0.0197\n",
      "Epoch 4/15\n",
      "40/40 [==============================] - 334s 8s/step - loss: 1.6959 - accuracy: 0.2777 - recall: 0.0207 - val_loss: 1.6346 - val_accuracy: 0.3034 - val_recall: 0.0034\n",
      "Epoch 5/15\n",
      "40/40 [==============================] - 331s 8s/step - loss: 1.6804 - accuracy: 0.2738 - recall: 0.0182 - val_loss: 1.6647 - val_accuracy: 0.2956 - val_recall: 0.0094\n",
      "Epoch 6/15\n",
      "40/40 [==============================] - 340s 9s/step - loss: 1.6525 - accuracy: 0.2836 - recall: 0.0152 - val_loss: 1.6648 - val_accuracy: 0.2828 - val_recall: 0.0231\n",
      "Epoch 7/15\n",
      "40/40 [==============================] - 346s 9s/step - loss: 1.6431 - accuracy: 0.3021 - recall: 0.0205 - val_loss: 1.6348 - val_accuracy: 0.3072 - val_recall: 0.0219\n",
      "Epoch 8/15\n",
      "40/40 [==============================] - 359s 9s/step - loss: 1.6070 - accuracy: 0.3348 - recall: 0.0355 - val_loss: 1.5795 - val_accuracy: 0.3369 - val_recall: 0.0244\n",
      "Epoch 9/15\n",
      "40/40 [==============================] - 341s 9s/step - loss: 1.6029 - accuracy: 0.3461 - recall: 0.0412 - val_loss: 1.5844 - val_accuracy: 0.3250 - val_recall: 0.0666\n",
      "Epoch 10/15\n",
      "40/40 [==============================] - 312s 8s/step - loss: 1.5586 - accuracy: 0.3508 - recall: 0.0594 - val_loss: 1.5426 - val_accuracy: 0.3319 - val_recall: 0.0528\n",
      "Epoch 11/15\n",
      "40/40 [==============================] - 345s 9s/step - loss: 1.5538 - accuracy: 0.3611 - recall: 0.0654 - val_loss: 1.5224 - val_accuracy: 0.3481 - val_recall: 0.0556\n",
      "Epoch 12/15\n",
      "40/40 [==============================] - 349s 9s/step - loss: 1.5011 - accuracy: 0.3658 - recall: 0.0807 - val_loss: 1.4846 - val_accuracy: 0.3663 - val_recall: 0.0819\n",
      "Epoch 13/15\n",
      "40/40 [==============================] - 367s 9s/step - loss: 1.4820 - accuracy: 0.3836 - recall: 0.0920 - val_loss: 1.5441 - val_accuracy: 0.3403 - val_recall: 0.0338\n",
      "Epoch 14/15\n",
      "40/40 [==============================] - 371s 9s/step - loss: 1.5227 - accuracy: 0.3580 - recall: 0.0734 - val_loss: 1.4835 - val_accuracy: 0.3703 - val_recall: 0.0794\n",
      "Epoch 15/15\n",
      "40/40 [==============================] - 343s 8s/step - loss: 1.4960 - accuracy: 0.3709 - recall: 0.0830 - val_loss: 1.5184 - val_accuracy: 0.3438 - val_recall: 0.0550\n"
     ]
    }
   ],
   "source": [
    "cnn_model_aug5 = models.Sequential()\n",
    "\n",
    "cnn_model_aug5.add(Conv2D(32, (3, 3), activation='relu', input_shape=(256, 256, 3)))\n",
    "cnn_model_aug5.add(MaxPooling2D((2, 2)))\n",
    "cnn_model_aug5.add(Conv2D(64, (3, 3), activation='relu'))\n",
    "cnn_model_aug5.add(MaxPooling2D((2, 2)))\n",
    "cnn_model_aug5.add(Conv2D(256, (3, 3), activation='relu'))\n",
    "cnn_model_aug5.add(MaxPooling2D((2, 2)))\n",
    "cnn_model_aug5.add(Dropout(0.25))\n",
    "cnn_model_aug5.add(Conv2D(128, (3, 3), activation='relu'))\n",
    "cnn_model_aug5.add(MaxPooling2D((2, 2)))\n",
    "cnn_model_aug5.add(Conv2D(128, (3, 3), activation='relu'))\n",
    "cnn_model_aug5.add(MaxPooling2D((2, 2)))\n",
    "cnn_model_aug5.add(Dropout(0.25))\n",
    "cnn_model_aug5.add(Flatten())\n",
    "cnn_model_aug5.add(Dense(256, activation='relu'))\n",
    "cnn_model_aug5.add(Dense(128, activation='relu'))\n",
    "cnn_model_aug5.add(Dense(32, activation='relu'))\n",
    "cnn_model_aug5.add(Dense(16, activation='relu'))\n",
    "cnn_model_aug5.add(Dense(6, activation='softmax'))\n",
    "\n",
    "cnn_model_aug5.compile(optimizer='Adam',\n",
    "              loss='categorical_crossentropy',\n",
    "              metrics=['accuracy', 'Recall'])\n",
    "\n",
    "result5 = cnn_model_aug5.fit(train_generator_aug,\n",
    "                    steps_per_epoch=40,\n",
    "                    epochs=15,\n",
    "                    batch_size=64,\n",
    "                    class_weight=train_class_weights,\n",
    "                    validation_data=(validation_generator_aug),\n",
    "                    validation_steps=25)"
   ]
  },
  {
   "cell_type": "code",
   "execution_count": 38,
   "metadata": {},
   "outputs": [
    {
     "name": "stdout",
     "output_type": "stream",
     "text": [
      "125/125 [==============================] - 313s 3s/step - loss: 1.5025 - accuracy: 0.3562 - recall: 0.0603\n",
      "40/40 [==============================] - 100s 2s/step - loss: 1.5120 - accuracy: 0.3450 - recall: 0.0558\n",
      "25/25 [==============================] - 63s 2s/step - loss: 1.5077 - accuracy: 0.3497 - recall: 0.0595\n",
      "[1.502455234527588, 0.35624998807907104, 0.06031249836087227] [1.5120277404785156, 0.3449999988079071, 0.055799998342990875] [1.5076711177825928, 0.349742591381073, 0.0595238097012043]\n"
     ]
    }
   ],
   "source": [
    "cnn_result_train_aug5 = cnn_model_aug5.evaluate(train_generator_aug)\n",
    "cnn_result_validation_aug5 = cnn_model_aug5.evaluate(validation_generator_aug)\n",
    "cnn_result_test_aug5 = cnn_model_aug5.evaluate(test_generator_aug)\n",
    "\n",
    "print(cnn_result_train_aug5, cnn_result_validation_aug5, cnn_result_test_aug5)"
   ]
  }
 ],
 "metadata": {
  "interpreter": {
   "hash": "dc6d52e5e201111624bae335b563155d79ba4d597c083a245d9e59b53d9a7214"
  },
  "kernelspec": {
   "display_name": "Python 3.8.8 64-bit ('base': conda)",
   "name": "python3"
  },
  "language_info": {
   "codemirror_mode": {
    "name": "ipython",
    "version": 3
   },
   "file_extension": ".py",
   "mimetype": "text/x-python",
   "name": "python",
   "nbconvert_exporter": "python",
   "pygments_lexer": "ipython3",
   "version": "3.8.8"
  },
  "orig_nbformat": 4
 },
 "nbformat": 4,
 "nbformat_minor": 2
}
