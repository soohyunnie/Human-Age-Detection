{
 "cells": [
  {
   "cell_type": "code",
   "execution_count": 5,
   "metadata": {},
   "outputs": [],
   "source": [
    "import os, shutil, random\n",
    "import numpy as np\n",
    "import pandas as pd\n",
    "import matplotlib.pyplot as plt\n",
    "import matplotlib.ticker as mtick\n",
    "import matplotlib.image as mpimg\n",
    "from keras.preprocessing import image\n",
    "from keras.preprocessing.image import ImageDataGenerator\n",
    "from keras import models\n",
    "from keras.layers import Dense, Dropout, Conv2D, MaxPooling2D, Flatten, Activation, BatchNormalization\n",
    "from keras.regularizers import l2\n",
    "from sklearn.utils import class_weight \n",
    "from keras.applications import vgg16"
   ]
  },
  {
   "cell_type": "code",
   "execution_count": 6,
   "metadata": {},
   "outputs": [],
   "source": [
    "train_dir = 'Human_Face_Regonition_Images\\\\split2\\\\train'\n",
    "validation_dir = 'Human_Face_Regonition_Images\\\\split2\\\\validation'\n",
    "test_dir = 'Human_Face_Regonition_Images\\\\split2\\\\test'"
   ]
  },
  {
   "cell_type": "code",
   "execution_count": 7,
   "metadata": {},
   "outputs": [
    {
     "name": "stdout",
     "output_type": "stream",
     "text": [
      "Found 16000 images belonging to 6 classes.\n",
      "Found 5000 images belonging to 6 classes.\n",
      "Found 3108 images belonging to 6 classes.\n"
     ]
    }
   ],
   "source": [
    "train_data_gen_aug = ImageDataGenerator(rescale=1./255, \n",
    "                                        rotation_range=30, \n",
    "                                        width_shift_range=.2, \n",
    "                                        height_shift_range=.2,\n",
    "                                        zoom_range=0.2)\n",
    "train_generator_aug = train_data_gen_aug.flow_from_directory(train_dir, target_size=(256, 256), batch_size=128)\n",
    "\n",
    "validation_data_gen_aug = ImageDataGenerator(rescale=1./255, \n",
    "                                        rotation_range=30, \n",
    "                                        width_shift_range=.2, \n",
    "                                        height_shift_range=.2,\n",
    "                                        zoom_range=0.2)\n",
    "validation_generator_aug = validation_data_gen_aug.flow_from_directory(validation_dir, target_size=(256, 256), batch_size=128)\n",
    "\n",
    "test_data_gen_aug = ImageDataGenerator(rescale=1./255, \n",
    "                                        rotation_range=30, \n",
    "                                        width_shift_range=.2, \n",
    "                                        height_shift_range=.2,\n",
    "                                        zoom_range=0.2)\n",
    "test_generator_aug = test_data_gen_aug.flow_from_directory(test_dir, target_size=(256, 256), batch_size=128)"
   ]
  },
  {
   "cell_type": "code",
   "execution_count": 8,
   "metadata": {},
   "outputs": [
    {
     "name": "stderr",
     "output_type": "stream",
     "text": [
      "C:\\Users\\soohy\\anaconda3\\lib\\site-packages\\sklearn\\utils\\validation.py:70: FutureWarning: Pass classes=[0 1 2 3 4 5], y=[0 0 0 ... 5 5 5] as keyword args. From version 1.0 (renaming of 0.25) passing these as positional arguments will result in an error\n",
      "  warnings.warn(f\"Pass {args_msg} as keyword args. From version \"\n"
     ]
    },
    {
     "data": {
      "text/plain": [
       "{0: 1.1185682326621924,\n",
       " 1: 4.294149221685454,\n",
       " 2: 5.698005698005698,\n",
       " 3: 0.33146882121400456,\n",
       " 4: 0.9399600516978028,\n",
       " 5: 1.6210739614994933}"
      ]
     },
     "execution_count": 8,
     "metadata": {},
     "output_type": "execute_result"
    }
   ],
   "source": [
    "weight = class_weight.compute_class_weight(\n",
    "           'balanced',\n",
    "            np.unique(train_generator_aug.classes), \n",
    "            train_generator_aug.classes)\n",
    "\n",
    "train_class_weights = dict(enumerate(weight))\n",
    "train_class_weights"
   ]
  },
  {
   "cell_type": "code",
   "execution_count": 9,
   "metadata": {},
   "outputs": [
    {
     "name": "stdout",
     "output_type": "stream",
     "text": [
      "Epoch 1/15\n"
     ]
    }
   ],
   "source": [
    "cnn_base = vgg16.VGG16(weights='imagenet',\n",
    "                 include_top=False,\n",
    "                 input_shape=(256, 256, 3))\n",
    "\n",
    "model = models.Sequential()\n",
    "model.add(cnn_base)\n",
    "model.add(Flatten())\n",
    "model.add(Dense(64, activation='relu'))\n",
    "model.add(Dense(128, activation='relu'))\n",
    "model.add(Dense(256, activation='relu'))\n",
    "model.add(Dense(128, activation='relu'))\n",
    "model.add(Dense(6, activation='softmax'))\n",
    "\n",
    "# cnn_base.trainable = False\n",
    "\n",
    "model.compile(optimizer='Adam',\n",
    "              loss='categorical_crossentropy',\n",
    "              metrics=['accuracy'])\n",
    "\n",
    "result = model.fit(train_generator_aug,\n",
    "                    steps_per_epoch=40,\n",
    "                    epochs=15,\n",
    "                    batch_size=64,\n",
    "                    class_weight=train_class_weights,\n",
    "                    validation_data=(validation_generator_aug),\n",
    "                    validation_steps=25)"
   ]
  },
  {
   "cell_type": "code",
   "execution_count": null,
   "metadata": {},
   "outputs": [],
   "source": []
  },
  {
   "cell_type": "code",
   "execution_count": null,
   "metadata": {},
   "outputs": [],
   "source": []
  },
  {
   "cell_type": "code",
   "execution_count": null,
   "metadata": {},
   "outputs": [],
   "source": []
  },
  {
   "cell_type": "code",
   "execution_count": null,
   "metadata": {},
   "outputs": [],
   "source": []
  }
 ],
 "metadata": {
  "interpreter": {
   "hash": "dc6d52e5e201111624bae335b563155d79ba4d597c083a245d9e59b53d9a7214"
  },
  "kernelspec": {
   "display_name": "Python 3.8.8 64-bit ('base': conda)",
   "name": "python3"
  },
  "language_info": {
   "codemirror_mode": {
    "name": "ipython",
    "version": 3
   },
   "file_extension": ".py",
   "mimetype": "text/x-python",
   "name": "python",
   "nbconvert_exporter": "python",
   "pygments_lexer": "ipython3",
   "version": "3.8.8"
  },
  "orig_nbformat": 4
 },
 "nbformat": 4,
 "nbformat_minor": 2
}
