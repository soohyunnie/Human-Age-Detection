{
 "cells": [
  {
   "cell_type": "code",
   "execution_count": 26,
   "metadata": {},
   "outputs": [],
   "source": [
    "import os, shutil, random\n",
    "import numpy as np\n",
    "import pandas as pd\n",
    "import matplotlib.pyplot as plt\n",
    "import matplotlib.image as mpimg"
   ]
  },
  {
   "cell_type": "markdown",
   "metadata": {},
   "source": [
    "## Function"
   ]
  },
  {
   "cell_type": "code",
   "execution_count": 27,
   "metadata": {},
   "outputs": [],
   "source": [
    "def copy_image_to_new_folder(images, list_name, folder_name):\n",
    "    '''\n",
    "    This function copies images from one folder to a new folder that is created in this function.\n",
    "\n",
    "    Parameter: \n",
    "        images - list of images\n",
    "        list_name - name of the new folder\n",
    "        folder_name - name of the folder you want to copy the images from\n",
    "        \n",
    "    Returns: newly created folders with copied images\n",
    "    '''\n",
    "    \n",
    "    os.mkdir(os.path.join(folder_name, list_name))\n",
    "    \n",
    "    for img in images:\n",
    "        origin = os.path.join(folder_name, img)\n",
    "        destination = os.path.join(os.path.join(folder_name, list_name), img)\n",
    "        shutil.copyfile(origin, destination)"
   ]
  },
  {
   "cell_type": "code",
   "execution_count": 3,
   "metadata": {},
   "outputs": [],
   "source": [
    "def plot_ages(df):\n",
    "    '''\n",
    "    This function takes in dataframe and plots histogram of the age range.\n",
    "\n",
    "    Parameter: dataframe of the label with AgeRange\n",
    "\n",
    "    returns: plots histogram of the AgeRange\n",
    "    '''\n",
    "    \n",
    "    fig, ax = plt.subplots(figsize=(15,10))\n",
    "    df['AgeRange'].sort_values().hist(bins='auto', edgecolor='black')\n",
    "    ax.grid(False)\n",
    "    ax.set_xlabel('Age')\n",
    "    ax.set_ylabel('Counts');"
   ]
  },
  {
   "cell_type": "markdown",
   "metadata": {},
   "source": [
    "To download the images, we go to https://susanqq.github.io/UTKFace/ this website. From the website, download the three folders (part1, part2, part3) and unzip them.\n",
    "I put the three folders in a folder called 'Human_Face_Regonition_Images' and will be working in that folder to process these images."
   ]
  },
  {
   "cell_type": "markdown",
   "metadata": {},
   "source": [
    "When the images were downloaded, there was a file that wasn't a .jpg file. Hence, we will delete the file named '.DS_store'"
   ]
  },
  {
   "cell_type": "code",
   "execution_count": 52,
   "metadata": {},
   "outputs": [
    {
     "name": "stderr",
     "output_type": "stream",
     "text": [
      "Access denied - .\n",
      "File not found - -NAME\n",
      "File not found - -DELETE\n"
     ]
    }
   ],
   "source": [
    "!find . -name \".DS_Store\" -delete"
   ]
  },
  {
   "cell_type": "markdown",
   "metadata": {},
   "source": [
    "First, we are going to make directories for the folders with the images that we downloaded."
   ]
  },
  {
   "cell_type": "code",
   "execution_count": 53,
   "metadata": {},
   "outputs": [],
   "source": [
    "img_dir = 'Human_Face_Regonition_Images'\n",
    "\n",
    "part_1_dir = os.path.join(img_dir, 'part1')\n",
    "part_2_dir = os.path.join(img_dir, 'part2')\n",
    "part_3_dir = os.path.join(img_dir, 'part3')"
   ]
  },
  {
   "cell_type": "markdown",
   "metadata": {},
   "source": [
    "Let's check if the paths were created correctly."
   ]
  },
  {
   "cell_type": "code",
   "execution_count": 54,
   "metadata": {},
   "outputs": [
    {
     "data": {
      "text/plain": [
       "'Human_Face_Regonition_Images\\\\part1'"
      ]
     },
     "execution_count": 54,
     "metadata": {},
     "output_type": "execute_result"
    }
   ],
   "source": [
    "part_1_dir"
   ]
  },
  {
   "cell_type": "markdown",
   "metadata": {},
   "source": [
    "With the directories, we want to make our images be in one folder. \n",
    "To do so, we must make a directory of the new folder we want the images to be in."
   ]
  },
  {
   "cell_type": "code",
   "execution_count": null,
   "metadata": {},
   "outputs": [],
   "source": [
    "img_dir = 'Human_Face_Regonition_Images\\\\images\\\\'\n",
    "os.mkdir(img_dir)"
   ]
  },
  {
   "cell_type": "markdown",
   "metadata": {},
   "source": [
    "Then, we must get all the files ending with .jpg from each folders (part1, part2, part3) and copy them to the new folder using the directory path we created above."
   ]
  },
  {
   "cell_type": "markdown",
   "metadata": {},
   "source": [
    "In the folder part3, we found that there are two images with the wrong extensions. So, before we move the images in part3 folder to the new folder, we need to rename the images first."
   ]
  },
  {
   "cell_type": "code",
   "execution_count": null,
   "metadata": {},
   "outputs": [],
   "source": [
    "imgs_1= [file for file in os.listdir(part_1_dir) if file.endswith('.jpg')]\n",
    "\n",
    "for img in imgs_1:\n",
    "    origin = os.path.join(part_1_dir, img)\n",
    "    destination = os.path.join(img_dir, img)\n",
    "    shutil.copyfile(origin, destination)\n",
    "\n",
    "imgs_2= [file for file in os.listdir(part_2_dir) if file.endswith('.jpg')]\n",
    "\n",
    "for img in imgs_2:\n",
    "    origin = os.path.join(part_2_dir, img)\n",
    "    destination = os.path.join(img_dir, img)\n",
    "    shutil.copyfile(origin, destination)\n",
    "\n",
    "os.rename(part_3_dir+'\\\\'+'44_1_4_20170116235150272.pg', part_3_dir+'\\\\'+'44_1_4_20170116235150272.jpg')\n",
    "os.rename(part_3_dir+'\\\\'+'55_0_0_20170116232725357jpg', part_3_dir+'\\\\'+'55_0_0_20170116232725357.jpg')\n",
    "\n",
    "imgs_3= [file for file in os.listdir(part_3_dir) if file.endswith('.jpg')]\n",
    "\n",
    "for img in imgs_3:\n",
    "    origin = os.path.join(part_3_dir, img)\n",
    "    destination = os.path.join(img_dir, img)\n",
    "    shutil.copyfile(origin, destination)"
   ]
  },
  {
   "cell_type": "markdown",
   "metadata": {},
   "source": [
    "Let's check if the number of images in the new folder matches the sum of the numbers of the three folders."
   ]
  },
  {
   "cell_type": "code",
   "execution_count": null,
   "metadata": {},
   "outputs": [],
   "source": [
    "len(os.listdir(img_dir)) == len(os.listdir(part_1_dir)) + len(os.listdir(part_2_dir)) + len(os.listdir(part_3_dir))"
   ]
  },
  {
   "cell_type": "markdown",
   "metadata": {},
   "source": [
    "Let's visualize some images in our folder."
   ]
  },
  {
   "cell_type": "code",
   "execution_count": null,
   "metadata": {},
   "outputs": [],
   "source": [
    "imgs = [mpimg.imread(img_dir+img) for img in random.sample(img_dir,5)]\n",
    "\n",
    "for n in range(5):\n",
    "    plt.imshow(imgs[n])\n",
    "    plt.show()"
   ]
  },
  {
   "cell_type": "markdown",
   "metadata": {},
   "source": [
    "We can create a dataframe of the ages to understand the distributions of the ages in our data."
   ]
  },
  {
   "cell_type": "code",
   "execution_count": 4,
   "metadata": {},
   "outputs": [
    {
     "data": {
      "text/html": [
       "<div>\n",
       "<style scoped>\n",
       "    .dataframe tbody tr th:only-of-type {\n",
       "        vertical-align: middle;\n",
       "    }\n",
       "\n",
       "    .dataframe tbody tr th {\n",
       "        vertical-align: top;\n",
       "    }\n",
       "\n",
       "    .dataframe thead th {\n",
       "        text-align: right;\n",
       "    }\n",
       "</style>\n",
       "<table border=\"1\" class=\"dataframe\">\n",
       "  <thead>\n",
       "    <tr style=\"text-align: right;\">\n",
       "      <th></th>\n",
       "      <th>age</th>\n",
       "    </tr>\n",
       "  </thead>\n",
       "  <tbody>\n",
       "    <tr>\n",
       "      <th>0</th>\n",
       "      <td>100</td>\n",
       "    </tr>\n",
       "    <tr>\n",
       "      <th>1</th>\n",
       "      <td>100</td>\n",
       "    </tr>\n",
       "    <tr>\n",
       "      <th>2</th>\n",
       "      <td>100</td>\n",
       "    </tr>\n",
       "    <tr>\n",
       "      <th>3</th>\n",
       "      <td>100</td>\n",
       "    </tr>\n",
       "    <tr>\n",
       "      <th>4</th>\n",
       "      <td>100</td>\n",
       "    </tr>\n",
       "  </tbody>\n",
       "</table>\n",
       "</div>"
      ],
      "text/plain": [
       "   age\n",
       "0  100\n",
       "1  100\n",
       "2  100\n",
       "3  100\n",
       "4  100"
      ]
     },
     "execution_count": 4,
     "metadata": {},
     "output_type": "execute_result"
    }
   ],
   "source": [
    "img_dir = 'Human_Face_Regonition_Images\\\\images\\\\'\n",
    "ages = [name.split('_')[0] for name in os.listdir(img_dir)]\n",
    "labels = pd.DataFrame({'age' : ages})\n",
    "labels.head()"
   ]
  },
  {
   "cell_type": "code",
   "execution_count": 5,
   "metadata": {},
   "outputs": [],
   "source": [
    "labels['age'] = labels['age'].astype(int)"
   ]
  },
  {
   "cell_type": "code",
   "execution_count": 6,
   "metadata": {},
   "outputs": [
    {
     "data": {
      "image/png": "[encoded data removed]",
      "text/plain": [
       "<Figure size 1080x720 with 1 Axes>"
      ]
     },
     "metadata": {
      "needs_background": "light"
     },
     "output_type": "display_data"
    }
   ],
   "source": [
    "labels = labels.sort_values(by='age')\n",
    "fig, ax = plt.subplots(figsize=(15,10))\n",
    "labels['age'].hist(bins='auto', edgecolor='black')\n",
    "ax.xaxis.set_ticks(np.arange(0, 116, 1))\n",
    "ax.grid(False)\n",
    "ax.set_xlabel('Age')\n",
    "ax.set_ylabel('Counts')\n",
    "plt.xticks(rotation = 90);"
   ]
  },
  {
   "cell_type": "markdown",
   "metadata": {},
   "source": [
    "From the graph above, we can see that the distribution of ages are very imbalanced and skewed. "
   ]
  },
  {
   "cell_type": "markdown",
   "metadata": {},
   "source": [
    "Let's see how the distribution of the images are when we binned them in certain way."
   ]
  },
  {
   "cell_type": "code",
   "execution_count": 8,
   "metadata": {},
   "outputs": [
    {
     "data": {
      "image/png": "[encoded data removed]",
      "text/plain": [
       "<Figure size 1080x720 with 1 Axes>"
      ]
     },
     "metadata": {
      "needs_background": "light"
     },
     "output_type": "display_data"
    }
   ],
   "source": [
    "bins = [0, 20, 26, 35, 50, np.inf]\n",
    "names = ['0-20', '21-26', '27-35', '36-50', '51+']\n",
    "labels['AgeRange'] = pd.cut(labels['age'], bins, labels=names)\n",
    "\n",
    "fig, ax = plt.subplots(figsize=(15,10))\n",
    "labels['AgeRange'].sort_values().hist(bins='auto', edgecolor='black')\n",
    "ax.grid(False)\n",
    "ax.set_xlabel('Age')\n",
    "ax.set_ylabel('Counts');"
   ]
  },
  {
   "cell_type": "markdown",
   "metadata": {},
   "source": [
    "From the folders with all the images, we want to split out images to 3 different folders for modeling: train, validation, test."
   ]
  },
  {
   "cell_type": "code",
   "execution_count": 9,
   "metadata": {},
   "outputs": [],
   "source": [
    "img_dir = 'Human_Face_Regonition_Images\\\\'\n",
    "\n",
    "# Split Folder\n",
    "split_dir = os.path.join(img_dir, 'split3')\n",
    "os.mkdir(split_dir)\n",
    "\n",
    "# Train Folder\n",
    "train_dir = os.path.join(split_dir, 'train')\n",
    "os.mkdir(train_dir)\n",
    "\n",
    "# Validation Folder\n",
    "validation_dir = os.path.join(split_dir, 'validation')\n",
    "os.mkdir(validation_dir)\n",
    "\n",
    "# Test Folder\n",
    "test_dir = os.path.join(split_dir, 'test')\n",
    "os.mkdir(test_dir)"
   ]
  },
  {
   "cell_type": "markdown",
   "metadata": {},
   "source": [
    "We want to take 16,000 images into train folder, 5,000 images to validation folder, and 3,108 images to test folder. Because of the way how this file name is, we want to take random images."
   ]
  },
  {
   "cell_type": "code",
   "execution_count": 10,
   "metadata": {},
   "outputs": [],
   "source": [
    "total_imgs_dir = 'Human_Face_Regonition_Images\\\\images\\\\'\n",
    "\n",
    "total_imgs= [file for file in os.listdir(total_imgs_dir) if file.endswith('.jpg')]\n",
    "\n",
    "train_imgs = random.sample(total_imgs, 16000)\n",
    "\n",
    "for img in train_imgs:\n",
    "    origin = os.path.join(total_imgs_dir, img)\n",
    "    destination = os.path.join(train_dir, img)\n",
    "    shutil.copyfile(origin, destination)"
   ]
  },
  {
   "cell_type": "code",
   "execution_count": 11,
   "metadata": {},
   "outputs": [],
   "source": [
    "rest_imgs = [image for image in total_imgs if image not in train_imgs]\n",
    "\n",
    "validation_imgs = random.sample(rest_imgs, 5000)\n",
    "\n",
    "for img in validation_imgs:\n",
    "    origin = os.path.join(total_imgs_dir, img)\n",
    "    destination = os.path.join(validation_dir, img)\n",
    "    shutil.copyfile(origin, destination)"
   ]
  },
  {
   "cell_type": "code",
   "execution_count": 12,
   "metadata": {},
   "outputs": [],
   "source": [
    "test_imgs = [image for image in rest_imgs if image not in validation_imgs]\n",
    "\n",
    "for img in test_imgs:\n",
    "    origin = os.path.join(total_imgs_dir, img)\n",
    "    destination = os.path.join(test_dir, img)\n",
    "    shutil.copyfile(origin, destination)"
   ]
  },
  {
   "cell_type": "markdown",
   "metadata": {},
   "source": [
    "With the three folders, I want to get the correct labels for each folder. To get the labels, I need to get the first digit of each image file. Then, I am going to make them into a dataframe."
   ]
  },
  {
   "cell_type": "code",
   "execution_count": 13,
   "metadata": {},
   "outputs": [
    {
     "data": {
      "text/html": [
       "<div>\n",
       "<style scoped>\n",
       "    .dataframe tbody tr th:only-of-type {\n",
       "        vertical-align: middle;\n",
       "    }\n",
       "\n",
       "    .dataframe tbody tr th {\n",
       "        vertical-align: top;\n",
       "    }\n",
       "\n",
       "    .dataframe thead th {\n",
       "        text-align: right;\n",
       "    }\n",
       "</style>\n",
       "<table border=\"1\" class=\"dataframe\">\n",
       "  <thead>\n",
       "    <tr style=\"text-align: right;\">\n",
       "      <th></th>\n",
       "      <th>age</th>\n",
       "    </tr>\n",
       "  </thead>\n",
       "  <tbody>\n",
       "    <tr>\n",
       "      <th>0</th>\n",
       "      <td>16</td>\n",
       "    </tr>\n",
       "    <tr>\n",
       "      <th>1</th>\n",
       "      <td>24</td>\n",
       "    </tr>\n",
       "    <tr>\n",
       "      <th>2</th>\n",
       "      <td>35</td>\n",
       "    </tr>\n",
       "    <tr>\n",
       "      <th>3</th>\n",
       "      <td>18</td>\n",
       "    </tr>\n",
       "    <tr>\n",
       "      <th>4</th>\n",
       "      <td>23</td>\n",
       "    </tr>\n",
       "  </tbody>\n",
       "</table>\n",
       "</div>"
      ],
      "text/plain": [
       "   age\n",
       "0   16\n",
       "1   24\n",
       "2   35\n",
       "3   18\n",
       "4   23"
      ]
     },
     "execution_count": 13,
     "metadata": {},
     "output_type": "execute_result"
    }
   ],
   "source": [
    "train_ages = [name.split('_')[0] for name in train_imgs]\n",
    "\n",
    "train_labels = pd.DataFrame({'age' : train_ages})\n",
    "train_labels['age'] = train_labels['age'].map(lambda x: int(float(x.replace('\"', ''))))\n",
    "\n",
    "train_labels.head()"
   ]
  },
  {
   "cell_type": "code",
   "execution_count": 14,
   "metadata": {},
   "outputs": [],
   "source": [
    "bins = [0, 20, 26, 35, 50, np.inf]\n",
    "names = ['0-20', '21-26', '27-35', '36-50', '51+']"
   ]
  },
  {
   "cell_type": "code",
   "execution_count": 15,
   "metadata": {},
   "outputs": [
    {
     "data": {
      "text/html": [
       "<div>\n",
       "<style scoped>\n",
       "    .dataframe tbody tr th:only-of-type {\n",
       "        vertical-align: middle;\n",
       "    }\n",
       "\n",
       "    .dataframe tbody tr th {\n",
       "        vertical-align: top;\n",
       "    }\n",
       "\n",
       "    .dataframe thead th {\n",
       "        text-align: right;\n",
       "    }\n",
       "</style>\n",
       "<table border=\"1\" class=\"dataframe\">\n",
       "  <thead>\n",
       "    <tr style=\"text-align: right;\">\n",
       "      <th></th>\n",
       "      <th>age</th>\n",
       "      <th>AgeRange</th>\n",
       "    </tr>\n",
       "  </thead>\n",
       "  <tbody>\n",
       "    <tr>\n",
       "      <th>0</th>\n",
       "      <td>16</td>\n",
       "      <td>0-20</td>\n",
       "    </tr>\n",
       "    <tr>\n",
       "      <th>1</th>\n",
       "      <td>24</td>\n",
       "      <td>21-26</td>\n",
       "    </tr>\n",
       "    <tr>\n",
       "      <th>2</th>\n",
       "      <td>35</td>\n",
       "      <td>27-35</td>\n",
       "    </tr>\n",
       "    <tr>\n",
       "      <th>3</th>\n",
       "      <td>18</td>\n",
       "      <td>0-20</td>\n",
       "    </tr>\n",
       "    <tr>\n",
       "      <th>4</th>\n",
       "      <td>23</td>\n",
       "      <td>21-26</td>\n",
       "    </tr>\n",
       "  </tbody>\n",
       "</table>\n",
       "</div>"
      ],
      "text/plain": [
       "   age AgeRange\n",
       "0   16     0-20\n",
       "1   24    21-26\n",
       "2   35    27-35\n",
       "3   18     0-20\n",
       "4   23    21-26"
      ]
     },
     "execution_count": 15,
     "metadata": {},
     "output_type": "execute_result"
    }
   ],
   "source": [
    "train_labels['AgeRange'] = pd.cut(train_labels['age'], bins, labels=names)\n",
    "train_labels.head()"
   ]
  },
  {
   "cell_type": "code",
   "execution_count": 16,
   "metadata": {},
   "outputs": [
    {
     "data": {
      "image/png": "[encoded data removed]",
      "text/plain": [
       "<Figure size 1080x720 with 1 Axes>"
      ]
     },
     "metadata": {
      "needs_background": "light"
     },
     "output_type": "display_data"
    }
   ],
   "source": [
    "plot_ages(train_labels);"
   ]
  },
  {
   "cell_type": "markdown",
   "metadata": {},
   "source": [
    "After binning the ages, we want to make separate folders for each classes. First, we need to get the indexes of each classes so that we can get the correct images for each class."
   ]
  },
  {
   "cell_type": "code",
   "execution_count": 17,
   "metadata": {},
   "outputs": [],
   "source": [
    "# Get indexes of each age bins\n",
    "age_0_20_index = list(train_labels[train_labels['AgeRange'] == '0-20'].index)\n",
    "age_21_26_index = list(train_labels[train_labels['AgeRange'] == '21-26'].index)\n",
    "age_27_35_index = list(train_labels[train_labels['AgeRange'] == '27-35'].index)\n",
    "age_36_50_index = list(train_labels[train_labels['AgeRange'] == '36-50'].index)\n",
    "age_51_up_index = list(train_labels[train_labels['AgeRange'] == '51+'].index)"
   ]
  },
  {
   "cell_type": "code",
   "execution_count": 18,
   "metadata": {},
   "outputs": [],
   "source": [
    "# With the list of indexes for each classes, we need to get the images with the indexes for each class\n",
    "age_0_20_imgs = [train_imgs[index] for index in age_0_20_index]\n",
    "age_21_26_imgs = [train_imgs[index] for index in age_21_26_index]\n",
    "age_27_35_imgs = [train_imgs[index] for index in age_27_35_index]\n",
    "age_36_50_imgs = [train_imgs[index] for index in age_36_50_index]\n",
    "age_51_up_imgs = [train_imgs[index] for index in age_51_up_index]"
   ]
  },
  {
   "cell_type": "code",
   "execution_count": 19,
   "metadata": {},
   "outputs": [],
   "source": [
    "# By using the function, we want to copy the images to the correct class folder\n",
    "copy_image_to_new_folder(age_0_20_imgs, 'age_0_20_imgs', train_dir)\n",
    "copy_image_to_new_folder(age_21_26_imgs, 'age_21_26_imgs', train_dir)\n",
    "copy_image_to_new_folder(age_27_35_imgs, 'age_27_35_imgs', train_dir)\n",
    "copy_image_to_new_folder(age_36_50_imgs, 'age_36_50_imgs', train_dir)\n",
    "copy_image_to_new_folder(age_51_up_imgs, 'age_51_up_imgs', train_dir)"
   ]
  },
  {
   "cell_type": "markdown",
   "metadata": {},
   "source": [
    "Now  we do the same process for validation and test images."
   ]
  },
  {
   "cell_type": "code",
   "execution_count": 20,
   "metadata": {},
   "outputs": [
    {
     "data": {
      "text/html": [
       "<div>\n",
       "<style scoped>\n",
       "    .dataframe tbody tr th:only-of-type {\n",
       "        vertical-align: middle;\n",
       "    }\n",
       "\n",
       "    .dataframe tbody tr th {\n",
       "        vertical-align: top;\n",
       "    }\n",
       "\n",
       "    .dataframe thead th {\n",
       "        text-align: right;\n",
       "    }\n",
       "</style>\n",
       "<table border=\"1\" class=\"dataframe\">\n",
       "  <thead>\n",
       "    <tr style=\"text-align: right;\">\n",
       "      <th></th>\n",
       "      <th>age</th>\n",
       "      <th>AgeRange</th>\n",
       "    </tr>\n",
       "  </thead>\n",
       "  <tbody>\n",
       "    <tr>\n",
       "      <th>0</th>\n",
       "      <td>54</td>\n",
       "      <td>51+</td>\n",
       "    </tr>\n",
       "    <tr>\n",
       "      <th>1</th>\n",
       "      <td>4</td>\n",
       "      <td>0-20</td>\n",
       "    </tr>\n",
       "    <tr>\n",
       "      <th>2</th>\n",
       "      <td>15</td>\n",
       "      <td>0-20</td>\n",
       "    </tr>\n",
       "    <tr>\n",
       "      <th>3</th>\n",
       "      <td>43</td>\n",
       "      <td>36-50</td>\n",
       "    </tr>\n",
       "    <tr>\n",
       "      <th>4</th>\n",
       "      <td>27</td>\n",
       "      <td>27-35</td>\n",
       "    </tr>\n",
       "  </tbody>\n",
       "</table>\n",
       "</div>"
      ],
      "text/plain": [
       "   age AgeRange\n",
       "0   54      51+\n",
       "1    4     0-20\n",
       "2   15     0-20\n",
       "3   43    36-50\n",
       "4   27    27-35"
      ]
     },
     "execution_count": 20,
     "metadata": {},
     "output_type": "execute_result"
    }
   ],
   "source": [
    "validation_ages = [name.split('_')[0] for name in validation_imgs]\n",
    "\n",
    "validation_labels = pd.DataFrame({'age' : validation_ages})\n",
    "validation_labels['age'] = validation_labels['age'].map(lambda x: int(float(x.replace('\"', ''))))\n",
    "\n",
    "validation_labels['AgeRange'] = pd.cut(validation_labels['age'], bins, labels=names)\n",
    "validation_labels.head()"
   ]
  },
  {
   "cell_type": "code",
   "execution_count": 21,
   "metadata": {},
   "outputs": [
    {
     "data": {
      "image/png": "[encoded data removed]",
      "text/plain": [
       "<Figure size 1080x720 with 1 Axes>"
      ]
     },
     "metadata": {
      "needs_background": "light"
     },
     "output_type": "display_data"
    }
   ],
   "source": [
    "plot_ages(validation_labels);"
   ]
  },
  {
   "cell_type": "markdown",
   "metadata": {},
   "source": [
    "The proportion of the age distributions is very similar to the training images."
   ]
  },
  {
   "cell_type": "code",
   "execution_count": 22,
   "metadata": {},
   "outputs": [],
   "source": [
    "age_0_20_index = list(validation_labels[validation_labels['AgeRange'] == '0-20'].index)\n",
    "age_21_26_index = list(validation_labels[validation_labels['AgeRange'] == '21-26'].index)\n",
    "age_27_35_index = list(validation_labels[validation_labels['AgeRange'] == '27-35'].index)\n",
    "age_36_50_index = list(validation_labels[validation_labels['AgeRange'] == '36-50'].index)\n",
    "age_51_up_index = list(validation_labels[validation_labels['AgeRange'] == '51+'].index)\n",
    "\n",
    "age_0_20_imgs = [validation_imgs[index] for index in age_0_20_index]\n",
    "age_21_26_imgs = [validation_imgs[index] for index in age_21_26_index]\n",
    "age_27_35_imgs = [validation_imgs[index] for index in age_27_35_index]\n",
    "age_36_50_imgs = [validation_imgs[index] for index in age_36_50_index]\n",
    "age_51_up_imgs = [validation_imgs[index] for index in age_51_up_index]\n",
    "\n",
    "copy_image_to_new_folder(age_0_20_imgs, 'age_0_20_imgs', validation_dir)\n",
    "copy_image_to_new_folder(age_21_26_imgs, 'age_21_26_imgs', validation_dir)\n",
    "copy_image_to_new_folder(age_27_35_imgs, 'age_27_35_imgs', validation_dir)\n",
    "copy_image_to_new_folder(age_36_50_imgs, 'age_36_50_imgs', validation_dir)\n",
    "copy_image_to_new_folder(age_51_up_imgs, 'age_51_up_imgs', validation_dir)"
   ]
  },
  {
   "cell_type": "code",
   "execution_count": 23,
   "metadata": {},
   "outputs": [
    {
     "data": {
      "text/html": [
       "<div>\n",
       "<style scoped>\n",
       "    .dataframe tbody tr th:only-of-type {\n",
       "        vertical-align: middle;\n",
       "    }\n",
       "\n",
       "    .dataframe tbody tr th {\n",
       "        vertical-align: top;\n",
       "    }\n",
       "\n",
       "    .dataframe thead th {\n",
       "        text-align: right;\n",
       "    }\n",
       "</style>\n",
       "<table border=\"1\" class=\"dataframe\">\n",
       "  <thead>\n",
       "    <tr style=\"text-align: right;\">\n",
       "      <th></th>\n",
       "      <th>age</th>\n",
       "      <th>AgeRange</th>\n",
       "    </tr>\n",
       "  </thead>\n",
       "  <tbody>\n",
       "    <tr>\n",
       "      <th>0</th>\n",
       "      <td>101</td>\n",
       "      <td>51+</td>\n",
       "    </tr>\n",
       "    <tr>\n",
       "      <th>1</th>\n",
       "      <td>10</td>\n",
       "      <td>0-20</td>\n",
       "    </tr>\n",
       "    <tr>\n",
       "      <th>2</th>\n",
       "      <td>10</td>\n",
       "      <td>0-20</td>\n",
       "    </tr>\n",
       "    <tr>\n",
       "      <th>3</th>\n",
       "      <td>10</td>\n",
       "      <td>0-20</td>\n",
       "    </tr>\n",
       "    <tr>\n",
       "      <th>4</th>\n",
       "      <td>10</td>\n",
       "      <td>0-20</td>\n",
       "    </tr>\n",
       "  </tbody>\n",
       "</table>\n",
       "</div>"
      ],
      "text/plain": [
       "   age AgeRange\n",
       "0  101      51+\n",
       "1   10     0-20\n",
       "2   10     0-20\n",
       "3   10     0-20\n",
       "4   10     0-20"
      ]
     },
     "execution_count": 23,
     "metadata": {},
     "output_type": "execute_result"
    }
   ],
   "source": [
    "test_ages = [name.split('_')[0] for name in test_imgs]\n",
    "\n",
    "test_labels = pd.DataFrame({'age' : test_ages})\n",
    "test_labels['age'] = test_labels['age'].map(lambda x: int(float(x.replace('\"', ''))))\n",
    "\n",
    "test_labels['AgeRange'] = pd.cut(test_labels['age'], bins, labels=names)\n",
    "test_labels.head()"
   ]
  },
  {
   "cell_type": "code",
   "execution_count": 24,
   "metadata": {},
   "outputs": [
    {
     "data": {
      "image/png": "[encoded data removed]",
      "text/plain": [
       "<Figure size 1080x720 with 1 Axes>"
      ]
     },
     "metadata": {
      "needs_background": "light"
     },
     "output_type": "display_data"
    }
   ],
   "source": [
    "plot_ages(test_labels);"
   ]
  },
  {
   "cell_type": "markdown",
   "metadata": {},
   "source": [
    "The proportion of the age distributions is very similar to the training images and the validation images."
   ]
  },
  {
   "cell_type": "code",
   "execution_count": 25,
   "metadata": {},
   "outputs": [],
   "source": [
    "age_0_20_index = list(test_labels[test_labels['AgeRange'] == '0-20'].index)\n",
    "age_21_26_index = list(test_labels[test_labels['AgeRange'] == '21-26'].index)\n",
    "age_27_35_index = list(test_labels[test_labels['AgeRange'] == '27-35'].index)\n",
    "age_36_50_index = list(test_labels[test_labels['AgeRange'] == '36-50'].index)\n",
    "age_51_up_index = list(test_labels[test_labels['AgeRange'] == '51+'].index)\n",
    "\n",
    "age_0_20_imgs = [test_imgs[index] for index in age_0_20_index]\n",
    "age_21_26_imgs = [test_imgs[index] for index in age_21_26_index]\n",
    "age_27_35_imgs = [test_imgs[index] for index in age_27_35_index]\n",
    "age_36_50_imgs = [test_imgs[index] for index in age_36_50_index]\n",
    "age_51_up_imgs = [test_imgs[index] for index in age_51_up_index]\n",
    "\n",
    "copy_image_to_new_folder(age_0_20_imgs, 'age_0_20_imgs', test_dir)\n",
    "copy_image_to_new_folder(age_21_26_imgs, 'age_21_26_imgs', test_dir)\n",
    "copy_image_to_new_folder(age_27_35_imgs, 'age_27_35_imgs', test_dir)\n",
    "copy_image_to_new_folder(age_36_50_imgs, 'age_36_50_imgs', test_dir)\n",
    "copy_image_to_new_folder(age_51_up_imgs, 'age_51_up_imgs', test_dir)"
   ]
  },
  {
   "cell_type": "markdown",
   "metadata": {},
   "source": [
    "With the three models, I will iterate through multiple models in separate notebooks to find the model with the best score."
   ]
  }
 ],
 "metadata": {
  "interpreter": {
   "hash": "dc6d52e5e201111624bae335b563155d79ba4d597c083a245d9e59b53d9a7214"
  },
  "kernelspec": {
   "display_name": "Python 3.8.8 64-bit ('base': conda)",
   "name": "python3"
  },
  "language_info": {
   "codemirror_mode": {
    "name": "ipython",
    "version": 3
   },
   "file_extension": ".py",
   "mimetype": "text/x-python",
   "name": "python",
   "nbconvert_exporter": "python",
   "pygments_lexer": "ipython3",
   "version": "3.8.8"
  },
  "orig_nbformat": 4
 },
 "nbformat": 4,
 "nbformat_minor": 2
}
