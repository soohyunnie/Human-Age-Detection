{
 "cells": [
  {
   "cell_type": "code",
   "execution_count": 1,
   "metadata": {},
   "outputs": [],
   "source": [
    "import numpy as np\n",
    "import matplotlib.pyplot as plt\n",
    "from keras.preprocessing.image import ImageDataGenerator\n",
    "from keras import models\n",
    "from sklearn.metrics import confusion_matrix\n",
    "import seaborn as sns \n",
    "from skimage.color import label2rgb\n",
    "from lime import lime_image"
   ]
  },
  {
   "cell_type": "code",
   "execution_count": null,
   "metadata": {},
   "outputs": [
    {
     "ename": "Error",
     "evalue": "Session cannot generate requests",
     "output_type": "error",
     "traceback": [
      "Error: Session cannot generate requests",
      "at w.executeCodeCell (c:\\Users\\soohy\\.vscode\\extensions\\ms-toolsai.jupyter-2021.9.1101343141\\out\\client\\extension.js:52:301180)",
      "at w.execute (c:\\Users\\soohy\\.vscode\\extensions\\ms-toolsai.jupyter-2021.9.1101343141\\out\\client\\extension.js:52:300551)",
      "at w.start (c:\\Users\\soohy\\.vscode\\extensions\\ms-toolsai.jupyter-2021.9.1101343141\\out\\client\\extension.js:52:296215)",
      "at runMicrotasks (<anonymous>)",
      "at processTicksAndRejections (internal/process/task_queues.js:93:5)",
      "at async t.CellExecutionQueue.executeQueuedCells (c:\\Users\\soohy\\.vscode\\extensions\\ms-toolsai.jupyter-2021.9.1101343141\\out\\client\\extension.js:52:310950)",
      "at async t.CellExecutionQueue.start (c:\\Users\\soohy\\.vscode\\extensions\\ms-toolsai.jupyter-2021.9.1101343141\\out\\client\\extension.js:52:310490)"
     ]
    }
   ],
   "source": [
    "def plot_confusion_matrix(model):\n",
    "    '''\n",
    "    Plot confusion matrix of the model\n",
    "\n",
    "    Parameter: model - model of the data\n",
    "\n",
    "    Returns: confusion matrix\n",
    "    '''\n",
    "    \n",
    "    names = ['0-20', '21-26', '27-35', '36-50', '51+']\n",
    "\n",
    "    y_pred=model1.predict(test_generator_aug) \n",
    "    y_pred=np.argmax(y_pred, axis=-1)\n",
    "\n",
    "    y_test=np.argmax(test_generator_aug.classes, axis=-1)\n",
    "\n",
    "    CM = confusion_matrix(y_test, y_pred)\n",
    "\n",
    "    ax = plt.axes()\n",
    "    sns.heatmap(CM, annot=True, \n",
    "           annot_kws={\"size\": 10}, \n",
    "           xticklabels=names, \n",
    "           yticklabels=names, ax = ax)\n",
    "    ax.set_title('Confusion matrix')\n",
    "    plt.show();"
   ]
  },
  {
   "cell_type": "code",
   "execution_count": null,
   "metadata": {},
   "outputs": [],
   "source": [
    "def plot_lime(model, generator):\n",
    "    '''\n",
    "    Plots explaination of the model using LIME\n",
    "\n",
    "    Parameter:\n",
    "        model - model of the data\n",
    "        generator - ImageGenerator \n",
    "\n",
    "    Returns: plots LIME images\n",
    "    '''\n",
    "    \n",
    "    explainer = lime_image.LimeImageExplainer()\n",
    "\n",
    "    img, label = generator.next()\n",
    "\n",
    "    explanation = explainer.explain_instance(img[0].astype('double'), \n",
    "                                            model.predict)\n",
    "\n",
    "    y_pred=model.predict(img) \n",
    "    classes_x=np.argmax(y_pred, axis=1)\n",
    "\n",
    "    temp, mask = explanation.get_image_and_mask(classes_x[0], positive_only=True, num_features=5, hide_rest=False)\n",
    "    fig, (ax1, ax2) = plt.subplots(1,2, figsize = (8, 4))\n",
    "    ax1.imshow(label2rgb(mask,temp, bg_label = 0), interpolation = 'nearest')\n",
    "    ax1.set_title('Positive Regions for {}'.format(classes_x[0]))\n",
    "    temp, mask = explanation.get_image_and_mask(classes_x[0], positive_only=False, num_features=10, hide_rest=False)\n",
    "    ax2.imshow(label2rgb(3-mask,temp, bg_label = 0), interpolation = 'nearest')\n",
    "    ax2.set_title('Positive/Negative Regions for {}'.format(classes_x[0]))"
   ]
  },
  {
   "cell_type": "code",
   "execution_count": 2,
   "metadata": {},
   "outputs": [],
   "source": [
    "train_dir = 'Human_Face_Regonition_Images\\\\split2\\\\train'\n",
    "validation_dir = 'Human_Face_Regonition_Images\\\\split2\\\\validation'\n",
    "test_dir = 'Human_Face_Regonition_Images\\\\split2\\\\test'"
   ]
  },
  {
   "cell_type": "code",
   "execution_count": 3,
   "metadata": {},
   "outputs": [
    {
     "name": "stdout",
     "output_type": "stream",
     "text": [
      "Found 16000 images belonging to 5 classes.\n",
      "Found 5000 images belonging to 5 classes.\n",
      "Found 3108 images belonging to 5 classes.\n"
     ]
    }
   ],
   "source": [
    "data_gen_aug = ImageDataGenerator(rescale=1./255, \n",
    "                                        rotation_range=30, \n",
    "                                        horizontal_flip=True,)\n",
    "                                        \n",
    "train_generator_aug = data_gen_aug.flow_from_directory(train_dir, target_size=(256, 256), batch_size=128)\n",
    "\n",
    "validation_generator_aug = data_gen_aug.flow_from_directory(validation_dir, target_size=(256, 256), batch_size=128)\n",
    "\n",
    "test_generator_aug = data_gen_aug.flow_from_directory(test_dir, target_size=(256, 256), batch_size=128)"
   ]
  },
  {
   "cell_type": "markdown",
   "metadata": {},
   "source": [
    "The second and third models with pretrained models have similar accuracy scores. So, we will look at the confusion matrix to choose the final model."
   ]
  },
  {
   "cell_type": "code",
   "execution_count": 4,
   "metadata": {},
   "outputs": [
    {
     "name": "stdout",
     "output_type": "stream",
     "text": [
      "Model: \"sequential\"\n",
      "_________________________________________________________________\n",
      "Layer (type)                 Output Shape              Param #   \n",
      "=================================================================\n",
      "vgg16 (Functional)           (None, 8, 8, 512)         14714688  \n",
      "_________________________________________________________________\n",
      "flatten (Flatten)            (None, 32768)             0         \n",
      "_________________________________________________________________\n",
      "dense (Dense)                (None, 512)               16777728  \n",
      "_________________________________________________________________\n",
      "dense_1 (Dense)              (None, 64)                32832     \n",
      "_________________________________________________________________\n",
      "dense_2 (Dense)              (None, 128)               8320      \n",
      "_________________________________________________________________\n",
      "dense_3 (Dense)              (None, 256)               33024     \n",
      "_________________________________________________________________\n",
      "dense_4 (Dense)              (None, 128)               32896     \n",
      "_________________________________________________________________\n",
      "dense_5 (Dense)              (None, 64)                8256      \n",
      "_________________________________________________________________\n",
      "dense_6 (Dense)              (None, 64)                4160      \n",
      "_________________________________________________________________\n",
      "dense_7 (Dense)              (None, 5)                 325       \n",
      "=================================================================\n",
      "Total params: 31,612,229\n",
      "Trainable params: 16,897,541\n",
      "Non-trainable params: 14,714,688\n",
      "_________________________________________________________________\n"
     ]
    }
   ],
   "source": [
    "model1 = models.load_model('models/pretrained_model2.h5')\n",
    "model1.summary()"
   ]
  },
  {
   "cell_type": "code",
   "execution_count": null,
   "metadata": {},
   "outputs": [
    {
     "ename": "Error",
     "evalue": "Session cannot generate requests",
     "output_type": "error",
     "traceback": [
      "Error: Session cannot generate requests",
      "at w.executeCodeCell (c:\\Users\\soohy\\.vscode\\extensions\\ms-toolsai.jupyter-2021.9.1101343141\\out\\client\\extension.js:52:301180)",
      "at w.execute (c:\\Users\\soohy\\.vscode\\extensions\\ms-toolsai.jupyter-2021.9.1101343141\\out\\client\\extension.js:52:300551)",
      "at w.start (c:\\Users\\soohy\\.vscode\\extensions\\ms-toolsai.jupyter-2021.9.1101343141\\out\\client\\extension.js:52:296215)",
      "at runMicrotasks (<anonymous>)",
      "at processTicksAndRejections (internal/process/task_queues.js:93:5)",
      "at async t.CellExecutionQueue.executeQueuedCells (c:\\Users\\soohy\\.vscode\\extensions\\ms-toolsai.jupyter-2021.9.1101343141\\out\\client\\extension.js:52:310950)",
      "at async t.CellExecutionQueue.start (c:\\Users\\soohy\\.vscode\\extensions\\ms-toolsai.jupyter-2021.9.1101343141\\out\\client\\extension.js:52:310490)"
     ]
    }
   ],
   "source": [
    "names = ['0-20', '21-26', '27-35', '36-50', '51+']\n",
    "\n",
    "y_pred=model1.predict(test_generator_aug) \n",
    "y_pred=np.argmax(y_pred, axis=-1)\n",
    "\n",
    "y_test=np.argmax(test_generator_aug.classes, axis=-1)\n",
    "\n",
    "CM = confusion_matrix(y_test, y_pred)\n",
    "\n",
    "ax = plt.axes()\n",
    "sns.heatmap(CM, annot=True, \n",
    "           annot_kws={\"size\": 10}, \n",
    "           xticklabels=names, \n",
    "           yticklabels=names, ax = ax)\n",
    "ax.set_title('Confusion matrix')\n",
    "plt.show();"
   ]
  },
  {
   "cell_type": "code",
   "execution_count": null,
   "metadata": {},
   "outputs": [],
   "source": [
    "model2 = models.load_model('models/pretrained_model3.h5')\n",
    "model2.summary()"
   ]
  },
  {
   "cell_type": "code",
   "execution_count": null,
   "metadata": {},
   "outputs": [],
   "source": []
  },
  {
   "cell_type": "markdown",
   "metadata": {},
   "source": [
    "# LIME"
   ]
  },
  {
   "cell_type": "markdown",
   "metadata": {},
   "source": [
    "Using LIME library, I will plot explainations of how the model is predicting the age. (I got the codes from [this website](https://github.com/marcotcr/lime/blob/master/doc/notebooks/Tutorial%20-%20Faces%20and%20GradBoost.ipynb))"
   ]
  },
  {
   "cell_type": "code",
   "execution_count": null,
   "metadata": {},
   "outputs": [],
   "source": [
    "for n in range(3):\n",
    "    plot_lime(model2, train_generator_aug)"
   ]
  },
  {
   "cell_type": "code",
   "execution_count": null,
   "metadata": {},
   "outputs": [],
   "source": []
  }
 ],
 "metadata": {
  "interpreter": {
   "hash": "5f2150a92f94e243ee6d4aff3995888d70c43968d47476e7569602f4ee1f19fa"
  },
  "kernelspec": {
   "display_name": "Python 3.8.5 64-bit ('learn-env': conda)",
   "name": "python3"
  },
  "language_info": {
   "codemirror_mode": {
    "name": "ipython",
    "version": 3
   },
   "file_extension": ".py",
   "mimetype": "text/x-python",
   "name": "python",
   "nbconvert_exporter": "python",
   "pygments_lexer": "ipython3",
   "version": "3.8.5"
  }
 },
 "nbformat": 4,
 "nbformat_minor": 4
}
